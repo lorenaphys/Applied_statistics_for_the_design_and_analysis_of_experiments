{
 "cells": [
  {
   "cell_type": "markdown",
   "id": "ab9ba782",
   "metadata": {},
   "source": [
    "# Funciones exponenciales y potenciales"
   ]
  },
  {
   "cell_type": "markdown",
   "id": "28647425",
   "metadata": {},
   "source": [
    "Una investigación sociológica realizada en Caracas, deseaba determinar la relación entre la ausencia del padre en el hogar (tratamientos) y el nivel de autoestima alcanzado por los hijos varones (Y= variable dependiente), pero se sospecha que esta relación pudiera estar afectada por el clima familiar (covariable)"
   ]
  },
  {
   "cell_type": "markdown",
   "id": "79f3e4f8",
   "metadata": {},
   "source": [
    "## Definiendo las variables"
   ]
  },
  {
   "cell_type": "markdown",
   "id": "264fb4ed",
   "metadata": {},
   "source": [
    "**Notación**:\n",
    "* 1: familia con padrastro\n",
    "* 2: familia con padre\n",
    "* 3: familia sin padre"
   ]
  },
  {
   "cell_type": "code",
   "execution_count": 7,
   "id": "f5f3224c",
   "metadata": {},
   "outputs": [],
   "source": [
    "padre <- rep(c(1,2,3),each = 5)"
   ]
  },
  {
   "cell_type": "code",
   "execution_count": 3,
   "id": "011fdec9",
   "metadata": {},
   "outputs": [],
   "source": [
    "clima <- c(30,20,15,20,25,28,12,20,10,10,10,15,20,10,10)\n",
    "autoestima <- c(15,10,5,10,20,25,10,15,15,10,5,10,20,5,10)"
   ]
  },
  {
   "cell_type": "code",
   "execution_count": 8,
   "id": "a1a99937",
   "metadata": {},
   "outputs": [],
   "source": [
    "padre <- as.factor(padre)"
   ]
  },
  {
   "cell_type": "markdown",
   "id": "279fcf29",
   "metadata": {},
   "source": [
    "## Definiendo el modelo "
   ]
  },
  {
   "cell_type": "code",
   "execution_count": 9,
   "id": "7cee8b5e",
   "metadata": {},
   "outputs": [],
   "source": [
    "m1 <- lm(autoestima ~ clima + padre)"
   ]
  },
  {
   "cell_type": "markdown",
   "id": "a071d7a3",
   "metadata": {},
   "source": [
    "## Tabla de parámetros"
   ]
  },
  {
   "cell_type": "code",
   "execution_count": 10,
   "id": "5ac817d1",
   "metadata": {},
   "outputs": [
    {
     "data": {
      "text/plain": [
       "\n",
       "Call:\n",
       "lm(formula = autoestima ~ clima + padre)\n",
       "\n",
       "Residuals:\n",
       "    Min      1Q  Median      3Q     Max \n",
       "-3.5502 -2.1343 -0.3624  1.3155  5.5437 \n",
       "\n",
       "Coefficients:\n",
       "            Estimate Std. Error t value Pr(>|t|)    \n",
       "(Intercept)  -6.0131     3.7481  -1.604 0.136949    \n",
       "clima         0.8188     0.1562   5.241 0.000276 ***\n",
       "padre2        7.9127     2.3130   3.421 0.005713 ** \n",
       "padre3        5.3690     2.5393   2.114 0.058137 .  \n",
       "---\n",
       "Signif. codes:  0 ‘***’ 0.001 ‘**’ 0.01 ‘*’ 0.05 ‘.’ 0.1 ‘ ’ 1\n",
       "\n",
       "Residual standard error: 3.343 on 11 degrees of freedom\n",
       "Multiple R-squared:  0.7508,\tAdjusted R-squared:  0.6828 \n",
       "F-statistic: 11.04 on 3 and 11 DF,  p-value: 0.001203\n"
      ]
     },
     "metadata": {},
     "output_type": "display_data"
    }
   ],
   "source": [
    "summary(m1)"
   ]
  },
  {
   "cell_type": "markdown",
   "id": "e91eb399",
   "metadata": {},
   "source": [
    "Se observa que hay diferencias significativas con el clima, y tener padre con respecto a tener un padrastro."
   ]
  },
  {
   "cell_type": "markdown",
   "id": "35f5c6de",
   "metadata": {},
   "source": [
    "## ANOVA"
   ]
  },
  {
   "cell_type": "code",
   "execution_count": 13,
   "id": "f836a55e",
   "metadata": {},
   "outputs": [
    {
     "name": "stderr",
     "output_type": "stream",
     "text": [
      "Loading required package: carData\n",
      "\n"
     ]
    }
   ],
   "source": [
    "library(car)"
   ]
  },
  {
   "cell_type": "code",
   "execution_count": 14,
   "id": "5467581b",
   "metadata": {},
   "outputs": [],
   "source": [
    "library(carData)"
   ]
  },
  {
   "cell_type": "code",
   "execution_count": 15,
   "id": "e0c3e4ac",
   "metadata": {},
   "outputs": [
    {
     "data": {
      "text/html": [
       "<table class=\"dataframe\">\n",
       "<caption>A anova: 4 × 4</caption>\n",
       "<thead>\n",
       "\t<tr><th></th><th scope=col>Sum Sq</th><th scope=col>Df</th><th scope=col>F value</th><th scope=col>Pr(&gt;F)</th></tr>\n",
       "\t<tr><th></th><th scope=col>&lt;dbl&gt;</th><th scope=col>&lt;dbl&gt;</th><th scope=col>&lt;dbl&gt;</th><th scope=col>&lt;dbl&gt;</th></tr>\n",
       "</thead>\n",
       "<tbody>\n",
       "\t<tr><th scope=row>(Intercept)</th><td> 28.77012</td><td> 1</td><td> 2.573805</td><td>0.1369488998</td></tr>\n",
       "\t<tr><th scope=row>clima</th><td>307.04148</td><td> 1</td><td>27.468259</td><td>0.0002763887</td></tr>\n",
       "\t<tr><th scope=row>padre</th><td>130.85386</td><td> 2</td><td> 5.853163</td><td>0.0185717143</td></tr>\n",
       "\t<tr><th scope=row>Residuals</th><td>122.95852</td><td>11</td><td>       NA</td><td>          NA</td></tr>\n",
       "</tbody>\n",
       "</table>\n"
      ],
      "text/latex": [
       "A anova: 4 × 4\n",
       "\\begin{tabular}{r|llll}\n",
       "  & Sum Sq & Df & F value & Pr(>F)\\\\\n",
       "  & <dbl> & <dbl> & <dbl> & <dbl>\\\\\n",
       "\\hline\n",
       "\t(Intercept) &  28.77012 &  1 &  2.573805 & 0.1369488998\\\\\n",
       "\tclima & 307.04148 &  1 & 27.468259 & 0.0002763887\\\\\n",
       "\tpadre & 130.85386 &  2 &  5.853163 & 0.0185717143\\\\\n",
       "\tResiduals & 122.95852 & 11 &        NA &           NA\\\\\n",
       "\\end{tabular}\n"
      ],
      "text/markdown": [
       "\n",
       "A anova: 4 × 4\n",
       "\n",
       "| <!--/--> | Sum Sq &lt;dbl&gt; | Df &lt;dbl&gt; | F value &lt;dbl&gt; | Pr(&gt;F) &lt;dbl&gt; |\n",
       "|---|---|---|---|---|\n",
       "| (Intercept) |  28.77012 |  1 |  2.573805 | 0.1369488998 |\n",
       "| clima | 307.04148 |  1 | 27.468259 | 0.0002763887 |\n",
       "| padre | 130.85386 |  2 |  5.853163 | 0.0185717143 |\n",
       "| Residuals | 122.95852 | 11 |        NA |           NA |\n",
       "\n"
      ],
      "text/plain": [
       "            Sum Sq    Df F value   Pr(>F)      \n",
       "(Intercept)  28.77012  1  2.573805 0.1369488998\n",
       "clima       307.04148  1 27.468259 0.0002763887\n",
       "padre       130.85386  2  5.853163 0.0185717143\n",
       "Residuals   122.95852 11        NA           NA"
      ]
     },
     "metadata": {},
     "output_type": "display_data"
    }
   ],
   "source": [
    "Anova(m1, type = 'III')"
   ]
  },
  {
   "cell_type": "code",
   "execution_count": 27,
   "id": "4256fcb5",
   "metadata": {
    "scrolled": true
   },
   "outputs": [
    {
     "name": "stderr",
     "output_type": "stream",
     "text": [
      "Warning message in replications(paste(\"~\", xx), data = mf):\n",
      "“non-factors ignored: clima”\n",
      "Warning message in TukeyHSD.aov(aov(autoestima ~ clima + padre)):\n",
      "“'which' specified some non-factors which will be dropped”\n"
     ]
    },
    {
     "data": {
      "text/plain": [
       "  Tukey multiple comparisons of means\n",
       "    95% family-wise confidence level\n",
       "\n",
       "Fit: aov(formula = autoestima ~ clima + padre)\n",
       "\n",
       "$padre\n",
       "         diff        lwr       upr     p adj\n",
       "2-1  6.592814  0.8817835 12.303845 0.0244581\n",
       "3-1  3.389222 -2.3218094  9.100252 0.2851467\n",
       "3-2 -3.203593 -8.9146237  2.507438 0.3216377\n"
      ]
     },
     "metadata": {},
     "output_type": "display_data"
    }
   ],
   "source": [
    "TukeyHSD(aov(autoestima ~ clima + padre))"
   ]
  },
  {
   "cell_type": "code",
   "execution_count": 23,
   "id": "6ffe71d0",
   "metadata": {},
   "outputs": [],
   "source": [
    "library(agricolae)"
   ]
  },
  {
   "cell_type": "code",
   "execution_count": 24,
   "id": "f8a44e82",
   "metadata": {},
   "outputs": [],
   "source": [
    "m1.snk <- SNK.test(m1,'padre')"
   ]
  },
  {
   "cell_type": "code",
   "execution_count": 25,
   "id": "1decadee",
   "metadata": {},
   "outputs": [
    {
     "data": {
      "text/plain": [
       "$statistics\n",
       "   MSerror Df     Mean       CV\n",
       "  11.17805 11 12.33333 27.10831\n",
       "\n",
       "$parameters\n",
       "  test name.t ntr alpha\n",
       "   SNK  padre   3  0.05\n",
       "\n",
       "$snk\n",
       "     Table CriticalRange\n",
       "2 3.112663      4.654040\n",
       "3 3.819588      5.711031\n",
       "\n",
       "$means\n",
       "  autoestima      std r Min Max Q25 Q50 Q75\n",
       "1         12 5.700877 5   5  20  10  10  15\n",
       "2         15 6.123724 5  10  25  10  15  15\n",
       "3         10 6.123724 5   5  20   5  10  10\n",
       "\n",
       "$comparison\n",
       "NULL\n",
       "\n",
       "$groups\n",
       "  autoestima groups\n",
       "2         15      a\n",
       "1         12      a\n",
       "3         10      a\n",
       "\n",
       "attr(,\"class\")\n",
       "[1] \"group\""
      ]
     },
     "metadata": {},
     "output_type": "display_data"
    }
   ],
   "source": [
    "m1.snk"
   ]
  },
  {
   "cell_type": "markdown",
   "id": "7e6e49a6",
   "metadata": {},
   "source": [
    "## Modelo con interacción"
   ]
  },
  {
   "cell_type": "code",
   "execution_count": 29,
   "id": "146341ac",
   "metadata": {},
   "outputs": [],
   "source": [
    "m2 <- lm(autoestima ~ clima + padre + clima:padre)"
   ]
  },
  {
   "cell_type": "code",
   "execution_count": 30,
   "id": "0aa44d8a",
   "metadata": {},
   "outputs": [
    {
     "data": {
      "text/plain": [
       "\n",
       "Call:\n",
       "lm(formula = autoestima ~ clima + padre + clima:padre)\n",
       "\n",
       "Residuals:\n",
       "    Min      1Q  Median      3Q     Max \n",
       "-3.4615 -1.8021 -0.8871  1.5121  5.5769 \n",
       "\n",
       "Coefficients:\n",
       "             Estimate Std. Error t value Pr(>|t|)  \n",
       "(Intercept)   -5.7692     6.7220  -0.858   0.4130  \n",
       "clima          0.8077     0.2977   2.714   0.0239 *\n",
       "padre2         9.8015     7.7057   1.272   0.2353  \n",
       "padre3        -0.4808     8.4747  -0.057   0.9560  \n",
       "clima:padre2  -0.1222     0.3675  -0.333   0.7471  \n",
       "clima:padre3   0.4423     0.4823   0.917   0.3830  \n",
       "---\n",
       "Signif. codes:  0 ‘***’ 0.001 ‘**’ 0.01 ‘*’ 0.05 ‘.’ 0.1 ‘ ’ 1\n",
       "\n",
       "Residual standard error: 3.394 on 9 degrees of freedom\n",
       "Multiple R-squared:  0.7899,\tAdjusted R-squared:  0.6731 \n",
       "F-statistic: 6.766 on 5 and 9 DF,  p-value: 0.006971\n"
      ]
     },
     "metadata": {},
     "output_type": "display_data"
    }
   ],
   "source": [
    "summary(m2)"
   ]
  },
  {
   "cell_type": "markdown",
   "id": "8e643ef9",
   "metadata": {},
   "source": [
    "Aquí se muestra que la interacción no es significativa."
   ]
  },
  {
   "cell_type": "markdown",
   "id": "7ebca4fb",
   "metadata": {},
   "source": [
    "## Verificando los supuestos del modelo"
   ]
  },
  {
   "cell_type": "code",
   "execution_count": 31,
   "id": "3d593717",
   "metadata": {},
   "outputs": [],
   "source": [
    "residuos1 <- m1$residuals"
   ]
  },
  {
   "cell_type": "code",
   "execution_count": 32,
   "id": "2faec3e3",
   "metadata": {},
   "outputs": [
    {
     "data": {
      "text/plain": [
       "\n",
       "\tShapiro-Wilk normality test\n",
       "\n",
       "data:  residuos1\n",
       "W = 0.89004, p-value = 0.06715\n"
      ]
     },
     "metadata": {},
     "output_type": "display_data"
    }
   ],
   "source": [
    "shapiro.test(residuos1)"
   ]
  },
  {
   "cell_type": "markdown",
   "id": "63d30a1d",
   "metadata": {},
   "source": [
    "Los residuos tienen una distribución normal."
   ]
  },
  {
   "cell_type": "code",
   "execution_count": 34,
   "id": "973d37e1",
   "metadata": {},
   "outputs": [
    {
     "data": {
      "text/plain": [
       "\n",
       "\tBartlett test of homogeneity of variances\n",
       "\n",
       "data:  residuos1 and padre\n",
       "Bartlett's K-squared = 0.030163, df = 2, p-value = 0.985\n"
      ]
     },
     "metadata": {},
     "output_type": "display_data"
    }
   ],
   "source": [
    "bartlett.test(residuos1,padre)"
   ]
  },
  {
   "cell_type": "code",
   "execution_count": 35,
   "id": "789a1c2c",
   "metadata": {},
   "outputs": [
    {
     "data": {
      "image/png": "[encoded data removed]",
      "text/plain": [
       "plot without title"
      ]
     },
     "metadata": {
      "image/png": {
       "height": 420,
       "width": 420
      }
     },
     "output_type": "display_data"
    }
   ],
   "source": [
    "plot(residuos1)"
   ]
  },
  {
   "cell_type": "markdown",
   "id": "de03adfb",
   "metadata": {},
   "source": [
    "Los residuos sí son homogéneos, no hay correlación entre ellos."
   ]
  },
  {
   "cell_type": "code",
   "execution_count": null,
   "id": "5bf81c98",
   "metadata": {},
   "outputs": [],
   "source": []
  }
 ],
 "metadata": {
  "kernelspec": {
   "display_name": "R",
   "language": "R",
   "name": "ir"
  },
  "language_info": {
   "codemirror_mode": "r",
   "file_extension": ".r",
   "mimetype": "text/x-r-source",
   "name": "R",
   "pygments_lexer": "r",
   "version": "4.1.1"
  }
 },
 "nbformat": 4,
 "nbformat_minor": 5
}
