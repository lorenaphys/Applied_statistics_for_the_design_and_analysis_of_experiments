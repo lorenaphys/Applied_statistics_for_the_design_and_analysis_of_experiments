{
 "cells": [
  {
   "cell_type": "markdown",
   "id": "13ecfaaa",
   "metadata": {},
   "source": [
    "# Modelo mixto"
   ]
  },
  {
   "cell_type": "code",
   "execution_count": 1,
   "id": "1d1a0a45",
   "metadata": {},
   "outputs": [],
   "source": [
    "datos <- read.csv('/home/lorena/Escritorio/Estadistica aplicada y R/Literatura/Modelo mixto/Modelo mixto (maquina-persona).csv')"
   ]
  },
  {
   "cell_type": "code",
   "execution_count": 8,
   "id": "03b3e2c5",
   "metadata": {},
   "outputs": [
    {
     "data": {
      "text/html": [
       "<style>\n",
       ".list-inline {list-style: none; margin:0; padding: 0}\n",
       ".list-inline>li {display: inline-block}\n",
       ".list-inline>li:not(:last-child)::after {content: \"\\00b7\"; padding: 0 .5ex}\n",
       "</style>\n",
       "<ol class=list-inline><li>54</li><li>3</li></ol>\n"
      ],
      "text/latex": [
       "\\begin{enumerate*}\n",
       "\\item 54\n",
       "\\item 3\n",
       "\\end{enumerate*}\n"
      ],
      "text/markdown": [
       "1. 54\n",
       "2. 3\n",
       "\n",
       "\n"
      ],
      "text/plain": [
       "[1] 54  3"
      ]
     },
     "metadata": {},
     "output_type": "display_data"
    }
   ],
   "source": [
    "dim(datos)"
   ]
  },
  {
   "cell_type": "code",
   "execution_count": 9,
   "id": "3df36191",
   "metadata": {},
   "outputs": [
    {
     "name": "stderr",
     "output_type": "stream",
     "text": [
      "Loading required package: matrixStats\n",
      "\n",
      "Loading required package: R.methodsS3\n",
      "\n",
      "R.methodsS3 v1.8.1 (2020-08-26 16:20:06 UTC) successfully loaded. See ?R.methodsS3 for help.\n",
      "\n"
     ]
    }
   ],
   "source": [
    "library(GAD)\n",
    "library(Matrix)"
   ]
  },
  {
   "cell_type": "markdown",
   "id": "ed332f9d",
   "metadata": {},
   "source": [
    "Definimos a los factores, donde el factor aleatorio es la persona. Además de la variable respuesta, que es la calificación. Hay que especificar cuál factor va a ser fijo y cuál aleatorio."
   ]
  },
  {
   "cell_type": "code",
   "execution_count": 10,
   "id": "8ee1d5f0",
   "metadata": {},
   "outputs": [],
   "source": [
    "maquina <- as.factor(datos$Maquina)\n",
    "maquina <- as.fixed(datos$Maquina)\n",
    "persona <- as.factor(datos$Persona)\n",
    "persona <- as.random(datos$Persona)\n",
    "y<-datos$Calificacion"
   ]
  },
  {
   "cell_type": "markdown",
   "id": "e070f083",
   "metadata": {},
   "source": [
    "## ANOVA"
   ]
  },
  {
   "cell_type": "code",
   "execution_count": 96,
   "id": "3f161b1c",
   "metadata": {},
   "outputs": [
    {
     "data": {
      "text/html": [
       "<table class=\"dataframe\">\n",
       "<caption>A anova: 4 × 5</caption>\n",
       "<thead>\n",
       "\t<tr><th></th><th scope=col>Df</th><th scope=col>Sum Sq</th><th scope=col>Mean Sq</th><th scope=col>F value</th><th scope=col>Pr(&gt;F)</th></tr>\n",
       "\t<tr><th></th><th scope=col>&lt;int&gt;</th><th scope=col>&lt;dbl&gt;</th><th scope=col>&lt;dbl&gt;</th><th scope=col>&lt;dbl&gt;</th><th scope=col>&lt;dbl&gt;</th></tr>\n",
       "</thead>\n",
       "<tbody>\n",
       "\t<tr><th scope=row>maquina</th><td> 2</td><td>1755.26333</td><td>877.6316667</td><td> 20.57608</td><td>2.855485e-04</td></tr>\n",
       "\t<tr><th scope=row>persona</th><td> 5</td><td>1241.89500</td><td>248.3790000</td><td>268.62540</td><td>1.937201e-27</td></tr>\n",
       "\t<tr><th scope=row>maquina:persona</th><td>10</td><td> 426.53000</td><td> 42.6530000</td><td> 46.12982</td><td>1.641250e-17</td></tr>\n",
       "\t<tr><th scope=row>Residual</th><td>36</td><td>  33.28667</td><td>  0.9246296</td><td>       NA</td><td>          NA</td></tr>\n",
       "</tbody>\n",
       "</table>\n"
      ],
      "text/latex": [
       "A anova: 4 × 5\n",
       "\\begin{tabular}{r|lllll}\n",
       "  & Df & Sum Sq & Mean Sq & F value & Pr(>F)\\\\\n",
       "  & <int> & <dbl> & <dbl> & <dbl> & <dbl>\\\\\n",
       "\\hline\n",
       "\tmaquina &  2 & 1755.26333 & 877.6316667 &  20.57608 & 2.855485e-04\\\\\n",
       "\tpersona &  5 & 1241.89500 & 248.3790000 & 268.62540 & 1.937201e-27\\\\\n",
       "\tmaquina:persona & 10 &  426.53000 &  42.6530000 &  46.12982 & 1.641250e-17\\\\\n",
       "\tResidual & 36 &   33.28667 &   0.9246296 &        NA &           NA\\\\\n",
       "\\end{tabular}\n"
      ],
      "text/markdown": [
       "\n",
       "A anova: 4 × 5\n",
       "\n",
       "| <!--/--> | Df &lt;int&gt; | Sum Sq &lt;dbl&gt; | Mean Sq &lt;dbl&gt; | F value &lt;dbl&gt; | Pr(&gt;F) &lt;dbl&gt; |\n",
       "|---|---|---|---|---|---|\n",
       "| maquina |  2 | 1755.26333 | 877.6316667 |  20.57608 | 2.855485e-04 |\n",
       "| persona |  5 | 1241.89500 | 248.3790000 | 268.62540 | 1.937201e-27 |\n",
       "| maquina:persona | 10 |  426.53000 |  42.6530000 |  46.12982 | 1.641250e-17 |\n",
       "| Residual | 36 |   33.28667 |   0.9246296 |        NA |           NA |\n",
       "\n"
      ],
      "text/plain": [
       "                Df Sum Sq     Mean Sq     F value   Pr(>F)      \n",
       "maquina          2 1755.26333 877.6316667  20.57608 2.855485e-04\n",
       "persona          5 1241.89500 248.3790000 268.62540 1.937201e-27\n",
       "maquina:persona 10  426.53000  42.6530000  46.12982 1.641250e-17\n",
       "Residual        36   33.28667   0.9246296        NA           NA"
      ]
     },
     "metadata": {},
     "output_type": "display_data"
    }
   ],
   "source": [
    "m1 <- lm(y~ maquina*persona)\n",
    "gad(m1) "
   ]
  },
  {
   "cell_type": "markdown",
   "id": "5bc1b07d",
   "metadata": {},
   "source": [
    "Dado el valor de _p_ la interacción máquina-persona es estadísticamente significativa."
   ]
  },
  {
   "cell_type": "markdown",
   "id": "b2cad123",
   "metadata": {},
   "source": [
    "## Calculando las estimaciones de los componentes de varianza "
   ]
  },
  {
   "cell_type": "code",
   "execution_count": 12,
   "id": "b153ae76",
   "metadata": {},
   "outputs": [],
   "source": [
    "library(lme4)"
   ]
  },
  {
   "cell_type": "code",
   "execution_count": 13,
   "id": "2645ae85",
   "metadata": {},
   "outputs": [],
   "source": [
    "m2 <- lmer(y ~ maquina + (1|persona) + (1|maquina:persona))"
   ]
  },
  {
   "cell_type": "code",
   "execution_count": 14,
   "id": "465e84c9",
   "metadata": {},
   "outputs": [
    {
     "data": {
      "text/plain": [
       "Linear mixed model fit by REML ['lmerMod']\n",
       "Formula: y ~ maquina + (1 | persona) + (1 | maquina:persona)\n",
       "\n",
       "REML criterion at convergence: 215.7\n",
       "\n",
       "Scaled residuals: \n",
       "     Min       1Q   Median       3Q      Max \n",
       "-2.26959 -0.54847 -0.01071  0.43937  2.54006 \n",
       "\n",
       "Random effects:\n",
       " Groups          Name        Variance Std.Dev.\n",
       " maquina:persona (Intercept) 13.9095  3.7295  \n",
       " persona         (Intercept) 22.8584  4.7811  \n",
       " Residual                     0.9246  0.9616  \n",
       "Number of obs: 54, groups:  maquina:persona, 18; persona, 6\n",
       "\n",
       "Fixed effects:\n",
       "            Estimate Std. Error t value\n",
       "(Intercept)   52.356      2.486  21.062\n",
       "maquina2       7.967      2.177   3.660\n",
       "maquina3      13.917      2.177   6.393\n",
       "\n",
       "Correlation of Fixed Effects:\n",
       "         (Intr) maqun2\n",
       "maquina2 -0.438       \n",
       "maquina3 -0.438  0.500"
      ]
     },
     "metadata": {},
     "output_type": "display_data"
    }
   ],
   "source": [
    "summary(m2)"
   ]
  },
  {
   "cell_type": "markdown",
   "id": "430c92fb",
   "metadata": {},
   "source": [
    "## Calculando el porcentaje de varianza total de cada componente"
   ]
  },
  {
   "cell_type": "code",
   "execution_count": 92,
   "id": "09706a37",
   "metadata": {},
   "outputs": [
    {
     "data": {
      "text/plain": [
       "$varcor\n",
       " Groups          Name        Std.Dev.\n",
       " maquina:persona (Intercept) 3.72954 \n",
       " persona         (Intercept) 4.78105 \n",
       " Residual                    0.96158 \n"
      ]
     },
     "metadata": {},
     "output_type": "display_data"
    }
   ],
   "source": [
    "summary(m2)['varcor']"
   ]
  },
  {
   "cell_type": "code",
   "execution_count": 81,
   "id": "82f88da8",
   "metadata": {},
   "outputs": [
    {
     "data": {
      "text/html": [
       "<style>\n",
       ".list-inline {list-style: none; margin:0; padding: 0}\n",
       ".list-inline>li {display: inline-block}\n",
       ".list-inline>li:not(:last-child)::after {content: \"\\00b7\"; padding: 0 .5ex}\n",
       "</style>\n",
       "<ol class=list-inline><li>36.9025668236387</li><li>60.6444252835445</li><li>2.45300789281687</li></ol>\n"
      ],
      "text/latex": [
       "\\begin{enumerate*}\n",
       "\\item 36.9025668236387\n",
       "\\item 60.6444252835445\n",
       "\\item 2.45300789281687\n",
       "\\end{enumerate*}\n"
      ],
      "text/markdown": [
       "1. 36.9025668236387\n",
       "2. 60.6444252835445\n",
       "3. 2.45300789281687\n",
       "\n",
       "\n"
      ],
      "text/plain": [
       "[1] 36.902567 60.644425  2.453008"
      ]
     },
     "metadata": {},
     "output_type": "display_data"
    }
   ],
   "source": [
    "vars <- c(13.9095,22.8584,0.9246)\n",
    "porcentajes<-100*vars/sum(vars)\n",
    "porcentajes"
   ]
  },
  {
   "cell_type": "markdown",
   "id": "7957a353",
   "metadata": {},
   "source": [
    "## Gráfica de pastel "
   ]
  },
  {
   "cell_type": "code",
   "execution_count": 93,
   "id": "e616419b",
   "metadata": {},
   "outputs": [],
   "source": [
    "library(plotrix)"
   ]
  },
  {
   "cell_type": "code",
   "execution_count": 126,
   "id": "d5517a8d",
   "metadata": {},
   "outputs": [
    {
     "data": {
      "image/png": "[encoded data removed]",
      "text/plain": [
       "Plot with title “Componentes de varianza”"
      ]
     },
     "metadata": {
      "image/png": {
       "height": 420,
       "width": 420
      }
     },
     "output_type": "display_data"
    }
   ],
   "source": [
    "etiqueta<-paste(round(porcentajes,2),\"%\",sep = \"\")\n",
    "colores<-c(\"purple\",\"red\",\"541\")\n",
    "pie3D(porcentajes,radius=0.9,explode=0.1,main=\"Componentes de varianza\",col=colores, labels = etiqueta)\n",
    "#\"topright\"\n",
    "#Leyenda\n",
    "legend('top',inset = 0.01,c(\"persona&maquina\",\"persona\",\"error\"),cex=0.8,fill=colores)"
   ]
  },
  {
   "cell_type": "markdown",
   "id": "e3238c09",
   "metadata": {},
   "source": [
    "Ya que el factor _persona_ es el que tiene una mayor variación, se puede concluir que las personas son las que influyen más en los resultados, por lo que se puede sugerir capacitar a los empleados."
   ]
  },
  {
   "cell_type": "code",
   "execution_count": 99,
   "id": "f5ba617c",
   "metadata": {},
   "outputs": [
    {
     "data": {
      "text/html": [
       "22.8588888888889"
      ],
      "text/latex": [
       "22.8588888888889"
      ],
      "text/markdown": [
       "22.8588888888889"
      ],
      "text/plain": [
       "[1] 22.85889"
      ]
     },
     "metadata": {},
     "output_type": "display_data"
    }
   ],
   "source": [
    "(248.38-42.65)/9"
   ]
  },
  {
   "cell_type": "code",
   "execution_count": 100,
   "id": "bcd7bd94",
   "metadata": {},
   "outputs": [
    {
     "data": {
      "text/html": [
       "13.91"
      ],
      "text/latex": [
       "13.91"
      ],
      "text/markdown": [
       "13.91"
      ],
      "text/plain": [
       "[1] 13.91"
      ]
     },
     "metadata": {},
     "output_type": "display_data"
    }
   ],
   "source": [
    "(42.65-0.92)/3"
   ]
  },
  {
   "cell_type": "markdown",
   "id": "32daf004",
   "metadata": {},
   "source": [
    "## Verificando los supuestos"
   ]
  },
  {
   "cell_type": "code",
   "execution_count": 101,
   "id": "4570af77",
   "metadata": {},
   "outputs": [],
   "source": [
    "residuos<- m1$res\n",
    "estimados<- m1$fitted.values"
   ]
  },
  {
   "cell_type": "code",
   "execution_count": 102,
   "id": "158e8f0f",
   "metadata": {},
   "outputs": [
    {
     "data": {
      "image/png": "[encoded data removed]",
      "text/plain": [
       "Plot with title “Normal Q-Q Plot”"
      ]
     },
     "metadata": {
      "image/png": {
       "height": 420,
       "width": 420
      }
     },
     "output_type": "display_data"
    }
   ],
   "source": [
    "qqnorm(residuos)\n",
    "qqline(residuos)"
   ]
  },
  {
   "cell_type": "code",
   "execution_count": 103,
   "id": "fe28aefc",
   "metadata": {},
   "outputs": [
    {
     "data": {
      "image/png": "[encoded data removed]",
      "text/plain": [
       "Plot with title “Histogram of residuos”"
      ]
     },
     "metadata": {
      "image/png": {
       "height": 420,
       "width": 420
      }
     },
     "output_type": "display_data"
    }
   ],
   "source": [
    "hist(residuos,col=\"blue\")"
   ]
  },
  {
   "cell_type": "code",
   "execution_count": 104,
   "id": "c8c857e7",
   "metadata": {},
   "outputs": [
    {
     "data": {
      "text/plain": [
       "\n",
       "\tShapiro-Wilk normality test\n",
       "\n",
       "data:  residuos\n",
       "W = 0.96245, p-value = 0.08876\n"
      ]
     },
     "metadata": {},
     "output_type": "display_data"
    }
   ],
   "source": [
    "shapiro.test(residuos)"
   ]
  },
  {
   "cell_type": "markdown",
   "id": "530649b2",
   "metadata": {},
   "source": [
    "Dado el valor de _p_, no se rechaza la hipótesis nula, por lo que los residuos tienen una distribución normal."
   ]
  },
  {
   "cell_type": "code",
   "execution_count": 105,
   "id": "0b283eb5",
   "metadata": {},
   "outputs": [
    {
     "data": {
      "text/plain": [
       "\n",
       "\tBartlett test of homogeneity of variances\n",
       "\n",
       "data:  residuos and maquina:persona\n",
       "Bartlett's K-squared = 23.672, df = 17, p-value = 0.1286\n"
      ]
     },
     "metadata": {},
     "output_type": "display_data"
    }
   ],
   "source": [
    "bartlett.test(residuos,maquina:persona)"
   ]
  },
  {
   "cell_type": "markdown",
   "id": "c2f4f47b",
   "metadata": {},
   "source": [
    "La hipótesis nula en la prueba de Bartlett indica que las varianzas de los residuos y de la interacción máquina-persona son homogéneas. Dado el valor de _p_, no se rechaza $H_0$, por lo que las varianzas sí son homogéneas."
   ]
  },
  {
   "cell_type": "code",
   "execution_count": 127,
   "id": "502c63b5",
   "metadata": {},
   "outputs": [
    {
     "name": "stderr",
     "output_type": "stream",
     "text": [
      "Registered S3 method overwritten by 'quantmod':\n",
      "  method            from\n",
      "  as.zoo.data.frame zoo \n",
      "\n"
     ]
    }
   ],
   "source": [
    "library(tseries)"
   ]
  },
  {
   "cell_type": "code",
   "execution_count": 128,
   "id": "926b0e9c",
   "metadata": {},
   "outputs": [
    {
     "data": {
      "text/plain": [
       "\n",
       "\tRuns Test\n",
       "\n",
       "data:  as.factor(m1$residual > 0)\n",
       "Standard Normal = 0.92757, p-value = 0.3536\n",
       "alternative hypothesis: two.sided\n"
      ]
     },
     "metadata": {},
     "output_type": "display_data"
    }
   ],
   "source": [
    "runs.test(as.factor(m1$residual>0))"
   ]
  },
  {
   "cell_type": "markdown",
   "id": "01ddd411",
   "metadata": {},
   "source": [
    "En la prueba de rachas, $H_0$ supone que los residuos son independientes, y dado el valor de _p_ esto no se rechaza."
   ]
  },
  {
   "cell_type": "code",
   "execution_count": null,
   "id": "5cb82ef8",
   "metadata": {},
   "outputs": [],
   "source": []
  }
 ],
 "metadata": {
  "kernelspec": {
   "display_name": "R",
   "language": "R",
   "name": "ir"
  },
  "language_info": {
   "codemirror_mode": "r",
   "file_extension": ".r",
   "mimetype": "text/x-r-source",
   "name": "R",
   "pygments_lexer": "r",
   "version": "4.1.1"
  }
 },
 "nbformat": 4,
 "nbformat_minor": 5
}
