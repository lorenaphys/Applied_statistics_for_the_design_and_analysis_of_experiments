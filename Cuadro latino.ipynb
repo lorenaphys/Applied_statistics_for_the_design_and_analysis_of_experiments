{
 "cells": [
  {
   "cell_type": "markdown",
   "id": "9a36f4d7",
   "metadata": {},
   "source": [
    "# Diseño de Cuadro latino "
   ]
  },
  {
   "cell_type": "markdown",
   "id": "4ea0a9e6",
   "metadata": {},
   "source": [
    "* El tratamiento son los métodos de ensamblado.\n",
    "* Efecto del orden de ensamblado (renglones, primer factor de bloqueo).\n",
    "* Efecto del operador (columnas, segundo factor de bloqueo).\n",
    "* La variable respuesta _y_ es el tiempo de ensamblado."
   ]
  },
  {
   "cell_type": "markdown",
   "id": "101cd1ed",
   "metadata": {},
   "source": [
    "Definiendo el tratamiento:"
   ]
  },
  {
   "cell_type": "code",
   "execution_count": null,
   "id": "4379230d",
   "metadata": {
    "collapsed": true
   },
   "outputs": [],
   "source": [
    "trat<-c(\"c\",\"b\",\"a\",\"d\",\"d\",\"c\",\"b\",\"a\",\"a\",\"d\",\"c\",\"b\",\"b\",\"a\",\"d\",\"c\")"
   ]
  },
  {
   "cell_type": "markdown",
   "id": "c158c858",
   "metadata": {},
   "source": [
    "Definiendo el operador:"
   ]
  },
  {
   "cell_type": "code",
   "execution_count": null,
   "id": "04f7e005",
   "metadata": {
    "collapsed": true
   },
   "outputs": [],
   "source": [
    "operador <- rep(c(1:4),each=4)"
   ]
  },
  {
   "cell_type": "code",
   "execution_count": 44,
   "id": "7de02e12",
   "metadata": {},
   "outputs": [
    {
     "data": {
      "text/html": [
       "<style>\n",
       ".list-inline {list-style: none; margin:0; padding: 0}\n",
       ".list-inline>li {display: inline-block}\n",
       ".list-inline>li:not(:last-child)::after {content: \"\\00b7\"; padding: 0 .5ex}\n",
       "</style>\n",
       "<ol class=list-inline><li>1</li><li>1</li><li>1</li><li>1</li><li>2</li><li>2</li><li>2</li><li>2</li><li>3</li><li>3</li><li>3</li><li>3</li><li>4</li><li>4</li><li>4</li><li>4</li></ol>\n",
       "\n",
       "<details>\n",
       "\t<summary style=display:list-item;cursor:pointer>\n",
       "\t\t<strong>Levels</strong>:\n",
       "\t</summary>\n",
       "\t<style>\n",
       "\t.list-inline {list-style: none; margin:0; padding: 0}\n",
       "\t.list-inline>li {display: inline-block}\n",
       "\t.list-inline>li:not(:last-child)::after {content: \"\\00b7\"; padding: 0 .5ex}\n",
       "\t</style>\n",
       "\t<ol class=list-inline><li>'1'</li><li>'2'</li><li>'3'</li><li>'4'</li></ol>\n",
       "</details>"
      ],
      "text/latex": [
       "\\begin{enumerate*}\n",
       "\\item 1\n",
       "\\item 1\n",
       "\\item 1\n",
       "\\item 1\n",
       "\\item 2\n",
       "\\item 2\n",
       "\\item 2\n",
       "\\item 2\n",
       "\\item 3\n",
       "\\item 3\n",
       "\\item 3\n",
       "\\item 3\n",
       "\\item 4\n",
       "\\item 4\n",
       "\\item 4\n",
       "\\item 4\n",
       "\\end{enumerate*}\n",
       "\n",
       "\\emph{Levels}: \\begin{enumerate*}\n",
       "\\item '1'\n",
       "\\item '2'\n",
       "\\item '3'\n",
       "\\item '4'\n",
       "\\end{enumerate*}\n"
      ],
      "text/markdown": [
       "1. 1\n",
       "2. 1\n",
       "3. 1\n",
       "4. 1\n",
       "5. 2\n",
       "6. 2\n",
       "7. 2\n",
       "8. 2\n",
       "9. 3\n",
       "10. 3\n",
       "11. 3\n",
       "12. 3\n",
       "13. 4\n",
       "14. 4\n",
       "15. 4\n",
       "16. 4\n",
       "\n",
       "\n",
       "\n",
       "**Levels**: 1. '1'\n",
       "2. '2'\n",
       "3. '3'\n",
       "4. '4'\n",
       "\n",
       "\n"
      ],
      "text/plain": [
       " [1] 1 1 1 1 2 2 2 2 3 3 3 3 4 4 4 4\n",
       "Levels: 1 2 3 4"
      ]
     },
     "metadata": {},
     "output_type": "display_data"
    }
   ],
   "source": [
    "operador"
   ]
  },
  {
   "cell_type": "code",
   "execution_count": null,
   "id": "feb69959",
   "metadata": {
    "collapsed": true
   },
   "outputs": [],
   "source": [
    "orden<-c(rep(1:4,4))"
   ]
  },
  {
   "cell_type": "code",
   "execution_count": 45,
   "id": "69a2d4a8",
   "metadata": {},
   "outputs": [
    {
     "data": {
      "text/html": [
       "<style>\n",
       ".list-inline {list-style: none; margin:0; padding: 0}\n",
       ".list-inline>li {display: inline-block}\n",
       ".list-inline>li:not(:last-child)::after {content: \"\\00b7\"; padding: 0 .5ex}\n",
       "</style>\n",
       "<ol class=list-inline><li>1</li><li>2</li><li>3</li><li>4</li><li>1</li><li>2</li><li>3</li><li>4</li><li>1</li><li>2</li><li>3</li><li>4</li><li>1</li><li>2</li><li>3</li><li>4</li></ol>\n",
       "\n",
       "<details>\n",
       "\t<summary style=display:list-item;cursor:pointer>\n",
       "\t\t<strong>Levels</strong>:\n",
       "\t</summary>\n",
       "\t<style>\n",
       "\t.list-inline {list-style: none; margin:0; padding: 0}\n",
       "\t.list-inline>li {display: inline-block}\n",
       "\t.list-inline>li:not(:last-child)::after {content: \"\\00b7\"; padding: 0 .5ex}\n",
       "\t</style>\n",
       "\t<ol class=list-inline><li>'1'</li><li>'2'</li><li>'3'</li><li>'4'</li></ol>\n",
       "</details>"
      ],
      "text/latex": [
       "\\begin{enumerate*}\n",
       "\\item 1\n",
       "\\item 2\n",
       "\\item 3\n",
       "\\item 4\n",
       "\\item 1\n",
       "\\item 2\n",
       "\\item 3\n",
       "\\item 4\n",
       "\\item 1\n",
       "\\item 2\n",
       "\\item 3\n",
       "\\item 4\n",
       "\\item 1\n",
       "\\item 2\n",
       "\\item 3\n",
       "\\item 4\n",
       "\\end{enumerate*}\n",
       "\n",
       "\\emph{Levels}: \\begin{enumerate*}\n",
       "\\item '1'\n",
       "\\item '2'\n",
       "\\item '3'\n",
       "\\item '4'\n",
       "\\end{enumerate*}\n"
      ],
      "text/markdown": [
       "1. 1\n",
       "2. 2\n",
       "3. 3\n",
       "4. 4\n",
       "5. 1\n",
       "6. 2\n",
       "7. 3\n",
       "8. 4\n",
       "9. 1\n",
       "10. 2\n",
       "11. 3\n",
       "12. 4\n",
       "13. 1\n",
       "14. 2\n",
       "15. 3\n",
       "16. 4\n",
       "\n",
       "\n",
       "\n",
       "**Levels**: 1. '1'\n",
       "2. '2'\n",
       "3. '3'\n",
       "4. '4'\n",
       "\n",
       "\n"
      ],
      "text/plain": [
       " [1] 1 2 3 4 1 2 3 4 1 2 3 4 1 2 3 4\n",
       "Levels: 1 2 3 4"
      ]
     },
     "metadata": {},
     "output_type": "display_data"
    }
   ],
   "source": [
    "orden"
   ]
  },
  {
   "cell_type": "markdown",
   "id": "3d1f65eb",
   "metadata": {},
   "source": [
    "Definiendo la variable respuesta:"
   ]
  },
  {
   "cell_type": "code",
   "execution_count": null,
   "id": "348446f3",
   "metadata": {
    "collapsed": true
   },
   "outputs": [],
   "source": [
    "y<-c(10,7,5,10,14,18,10,10,7,11,11,12,8,8,9,14)"
   ]
  },
  {
   "cell_type": "markdown",
   "id": "636e7817",
   "metadata": {},
   "source": [
    "Declaramos como categóricos los factores, además nos aseguramos de que la variable respuesta es numérica:"
   ]
  },
  {
   "cell_type": "code",
   "execution_count": 46,
   "id": "0bf27a6f",
   "metadata": {},
   "outputs": [
    {
     "data": {
      "text/html": [
       "TRUE"
      ],
      "text/latex": [
       "TRUE"
      ],
      "text/markdown": [
       "TRUE"
      ],
      "text/plain": [
       "[1] TRUE"
      ]
     },
     "metadata": {},
     "output_type": "display_data"
    }
   ],
   "source": [
    "trat<-as.factor(trat)\n",
    "orden<-as.factor(orden)\n",
    "operador<-as.factor(operador)\n",
    "is.numeric(y)"
   ]
  },
  {
   "cell_type": "markdown",
   "id": "ed7d1f6f",
   "metadata": {},
   "source": [
    "Organizamos los vectores en una base de datos:"
   ]
  },
  {
   "cell_type": "code",
   "execution_count": 47,
   "id": "cdc9e7ae",
   "metadata": {},
   "outputs": [
    {
     "data": {
      "text/html": [
       "<table class=\"dataframe\">\n",
       "<caption>A data.frame: 16 × 4</caption>\n",
       "<thead>\n",
       "\t<tr><th scope=col>trat</th><th scope=col>orden</th><th scope=col>operador</th><th scope=col>y</th></tr>\n",
       "\t<tr><th scope=col>&lt;dbl&gt;</th><th scope=col>&lt;dbl&gt;</th><th scope=col>&lt;dbl&gt;</th><th scope=col>&lt;dbl&gt;</th></tr>\n",
       "</thead>\n",
       "<tbody>\n",
       "\t<tr><td>3</td><td>1</td><td>1</td><td>10</td></tr>\n",
       "\t<tr><td>2</td><td>2</td><td>1</td><td> 7</td></tr>\n",
       "\t<tr><td>1</td><td>3</td><td>1</td><td> 5</td></tr>\n",
       "\t<tr><td>4</td><td>4</td><td>1</td><td>10</td></tr>\n",
       "\t<tr><td>4</td><td>1</td><td>2</td><td>14</td></tr>\n",
       "\t<tr><td>3</td><td>2</td><td>2</td><td>18</td></tr>\n",
       "\t<tr><td>2</td><td>3</td><td>2</td><td>10</td></tr>\n",
       "\t<tr><td>1</td><td>4</td><td>2</td><td>10</td></tr>\n",
       "\t<tr><td>1</td><td>1</td><td>3</td><td> 7</td></tr>\n",
       "\t<tr><td>4</td><td>2</td><td>3</td><td>11</td></tr>\n",
       "\t<tr><td>3</td><td>3</td><td>3</td><td>11</td></tr>\n",
       "\t<tr><td>2</td><td>4</td><td>3</td><td>12</td></tr>\n",
       "\t<tr><td>2</td><td>1</td><td>4</td><td> 8</td></tr>\n",
       "\t<tr><td>1</td><td>2</td><td>4</td><td> 8</td></tr>\n",
       "\t<tr><td>4</td><td>3</td><td>4</td><td> 9</td></tr>\n",
       "\t<tr><td>3</td><td>4</td><td>4</td><td>14</td></tr>\n",
       "</tbody>\n",
       "</table>\n"
      ],
      "text/latex": [
       "A data.frame: 16 × 4\n",
       "\\begin{tabular}{llll}\n",
       " trat & orden & operador & y\\\\\n",
       " <dbl> & <dbl> & <dbl> & <dbl>\\\\\n",
       "\\hline\n",
       "\t 3 & 1 & 1 & 10\\\\\n",
       "\t 2 & 2 & 1 &  7\\\\\n",
       "\t 1 & 3 & 1 &  5\\\\\n",
       "\t 4 & 4 & 1 & 10\\\\\n",
       "\t 4 & 1 & 2 & 14\\\\\n",
       "\t 3 & 2 & 2 & 18\\\\\n",
       "\t 2 & 3 & 2 & 10\\\\\n",
       "\t 1 & 4 & 2 & 10\\\\\n",
       "\t 1 & 1 & 3 &  7\\\\\n",
       "\t 4 & 2 & 3 & 11\\\\\n",
       "\t 3 & 3 & 3 & 11\\\\\n",
       "\t 2 & 4 & 3 & 12\\\\\n",
       "\t 2 & 1 & 4 &  8\\\\\n",
       "\t 1 & 2 & 4 &  8\\\\\n",
       "\t 4 & 3 & 4 &  9\\\\\n",
       "\t 3 & 4 & 4 & 14\\\\\n",
       "\\end{tabular}\n"
      ],
      "text/markdown": [
       "\n",
       "A data.frame: 16 × 4\n",
       "\n",
       "| trat &lt;dbl&gt; | orden &lt;dbl&gt; | operador &lt;dbl&gt; | y &lt;dbl&gt; |\n",
       "|---|---|---|---|\n",
       "| 3 | 1 | 1 | 10 |\n",
       "| 2 | 2 | 1 |  7 |\n",
       "| 1 | 3 | 1 |  5 |\n",
       "| 4 | 4 | 1 | 10 |\n",
       "| 4 | 1 | 2 | 14 |\n",
       "| 3 | 2 | 2 | 18 |\n",
       "| 2 | 3 | 2 | 10 |\n",
       "| 1 | 4 | 2 | 10 |\n",
       "| 1 | 1 | 3 |  7 |\n",
       "| 4 | 2 | 3 | 11 |\n",
       "| 3 | 3 | 3 | 11 |\n",
       "| 2 | 4 | 3 | 12 |\n",
       "| 2 | 1 | 4 |  8 |\n",
       "| 1 | 2 | 4 |  8 |\n",
       "| 4 | 3 | 4 |  9 |\n",
       "| 3 | 4 | 4 | 14 |\n",
       "\n"
      ],
      "text/plain": [
       "   trat orden operador y \n",
       "1  3    1     1        10\n",
       "2  2    2     1         7\n",
       "3  1    3     1         5\n",
       "4  4    4     1        10\n",
       "5  4    1     2        14\n",
       "6  3    2     2        18\n",
       "7  2    3     2        10\n",
       "8  1    4     2        10\n",
       "9  1    1     3         7\n",
       "10 4    2     3        11\n",
       "11 3    3     3        11\n",
       "12 2    4     3        12\n",
       "13 2    1     4         8\n",
       "14 1    2     4         8\n",
       "15 4    3     4         9\n",
       "16 3    4     4        14"
      ]
     },
     "metadata": {},
     "output_type": "display_data"
    }
   ],
   "source": [
    "datos<-data.frame(cbind(trat,orden,operador,y))\n",
    "datos"
   ]
  },
  {
   "cell_type": "markdown",
   "id": "ec6b3456",
   "metadata": {},
   "source": [
    "## Definiendo el modelo "
   ]
  },
  {
   "cell_type": "markdown",
   "id": "9133688b",
   "metadata": {},
   "source": [
    "En en modelo de cuadro latino los efectos van \"sumados\""
   ]
  },
  {
   "cell_type": "code",
   "execution_count": null,
   "id": "089c2f09",
   "metadata": {
    "collapsed": true
   },
   "outputs": [],
   "source": [
    "m1<-lm(y~trat+ orden+operador)"
   ]
  },
  {
   "cell_type": "markdown",
   "id": "670bc606",
   "metadata": {},
   "source": [
    "Tabla de ANOVA del  modelo:"
   ]
  },
  {
   "cell_type": "code",
   "execution_count": 48,
   "id": "770b9e05",
   "metadata": {},
   "outputs": [
    {
     "data": {
      "text/html": [
       "<table class=\"dataframe\">\n",
       "<caption>A anova: 4 × 5</caption>\n",
       "<thead>\n",
       "\t<tr><th></th><th scope=col>Df</th><th scope=col>Sum Sq</th><th scope=col>Mean Sq</th><th scope=col>F value</th><th scope=col>Pr(&gt;F)</th></tr>\n",
       "\t<tr><th></th><th scope=col>&lt;int&gt;</th><th scope=col>&lt;dbl&gt;</th><th scope=col>&lt;dbl&gt;</th><th scope=col>&lt;dbl&gt;</th><th scope=col>&lt;dbl&gt;</th></tr>\n",
       "</thead>\n",
       "<tbody>\n",
       "\t<tr><th scope=row>trat</th><td>3</td><td>72.5</td><td>24.166667</td><td>13.809524</td><td>0.004213040</td></tr>\n",
       "\t<tr><th scope=row>orden</th><td>3</td><td>18.5</td><td> 6.166667</td><td> 3.523810</td><td>0.088518683</td></tr>\n",
       "\t<tr><th scope=row>operador</th><td>3</td><td>51.5</td><td>17.166667</td><td> 9.809524</td><td>0.009925869</td></tr>\n",
       "\t<tr><th scope=row>Residuals</th><td>6</td><td>10.5</td><td> 1.750000</td><td>       NA</td><td>         NA</td></tr>\n",
       "</tbody>\n",
       "</table>\n"
      ],
      "text/latex": [
       "A anova: 4 × 5\n",
       "\\begin{tabular}{r|lllll}\n",
       "  & Df & Sum Sq & Mean Sq & F value & Pr(>F)\\\\\n",
       "  & <int> & <dbl> & <dbl> & <dbl> & <dbl>\\\\\n",
       "\\hline\n",
       "\ttrat & 3 & 72.5 & 24.166667 & 13.809524 & 0.004213040\\\\\n",
       "\torden & 3 & 18.5 &  6.166667 &  3.523810 & 0.088518683\\\\\n",
       "\toperador & 3 & 51.5 & 17.166667 &  9.809524 & 0.009925869\\\\\n",
       "\tResiduals & 6 & 10.5 &  1.750000 &        NA &          NA\\\\\n",
       "\\end{tabular}\n"
      ],
      "text/markdown": [
       "\n",
       "A anova: 4 × 5\n",
       "\n",
       "| <!--/--> | Df &lt;int&gt; | Sum Sq &lt;dbl&gt; | Mean Sq &lt;dbl&gt; | F value &lt;dbl&gt; | Pr(&gt;F) &lt;dbl&gt; |\n",
       "|---|---|---|---|---|---|\n",
       "| trat | 3 | 72.5 | 24.166667 | 13.809524 | 0.004213040 |\n",
       "| orden | 3 | 18.5 |  6.166667 |  3.523810 | 0.088518683 |\n",
       "| operador | 3 | 51.5 | 17.166667 |  9.809524 | 0.009925869 |\n",
       "| Residuals | 6 | 10.5 |  1.750000 |        NA |          NA |\n",
       "\n"
      ],
      "text/plain": [
       "          Df Sum Sq Mean Sq   F value   Pr(>F)     \n",
       "trat      3  72.5   24.166667 13.809524 0.004213040\n",
       "orden     3  18.5    6.166667  3.523810 0.088518683\n",
       "operador  3  51.5   17.166667  9.809524 0.009925869\n",
       "Residuals 6  10.5    1.750000        NA          NA"
      ]
     },
     "metadata": {},
     "output_type": "display_data"
    }
   ],
   "source": [
    "anova(m1)"
   ]
  },
  {
   "cell_type": "markdown",
   "id": "9da2940b",
   "metadata": {},
   "source": [
    "Aquí se observa que hay diferencias estadísticamente significativas con los tratamientos y los operadores, esto último indica que, independientemente del método, los operadores sí tienen diferentes habilidades. También se muestra que el orden no tiene diferencias significativas, al menos con los 4 turnos en los que se hizo la medición, para más turnos, no podemos hacer una inferencia."
   ]
  },
  {
   "cell_type": "markdown",
   "id": "53df8ebe",
   "metadata": {},
   "source": [
    "## Comparaciones múltiples con prueba de Tukey"
   ]
  },
  {
   "cell_type": "code",
   "execution_count": null,
   "id": "d1f66917",
   "metadata": {
    "collapsed": true
   },
   "outputs": [],
   "source": [
    "TukeyHSD(aov(y~trat+ orden+operador))"
   ]
  },
  {
   "cell_type": "markdown",
   "id": "9d3cdbbc",
   "metadata": {},
   "source": [
    "Prueba de Tukey sólo para el factor de  interés:"
   ]
  },
  {
   "cell_type": "code",
   "execution_count": 49,
   "id": "bdf505fb",
   "metadata": {},
   "outputs": [
    {
     "data": {
      "text/plain": [
       "  Tukey multiple comparisons of means\n",
       "    95% family-wise confidence level\n",
       "\n",
       "Fit: aov(formula = y ~ trat + orden + operador)\n",
       "\n",
       "$trat\n",
       "     diff        lwr       upr     p adj\n",
       "b-a  1.75 -1.4881345 4.9881345 0.3304308\n",
       "c-a  5.75  2.5118655 8.9881345 0.0034505\n",
       "d-a  3.50  0.2618655 6.7381345 0.0363534\n",
       "c-b  4.00  0.7618655 7.2381345 0.0202927\n",
       "d-b  1.75 -1.4881345 4.9881345 0.3304308\n",
       "d-c -2.25 -5.4881345 0.9881345 0.1761447\n"
      ]
     },
     "metadata": {},
     "output_type": "display_data"
    }
   ],
   "source": [
    "TukeyHSD(aov(y~trat+ orden+operador),\"trat\")"
   ]
  },
  {
   "cell_type": "raw",
   "id": "41124354",
   "metadata": {},
   "source": [
    "Graficamos la prueba:"
   ]
  },
  {
   "cell_type": "code",
   "execution_count": 50,
   "id": "4b629f64",
   "metadata": {},
   "outputs": [
    {
     "data": {
      "image/png": "[encoded data removed]",
      "text/plain": [
       "Plot with title “95% family-wise confidence level\n",
       "”"
      ]
     },
     "metadata": {
      "image/png": {
       "height": 420,
       "width": 420
      }
     },
     "output_type": "display_data"
    }
   ],
   "source": [
    "plot(TukeyHSD(aov(y~trat+ orden+operador),\"trat\"))"
   ]
  },
  {
   "cell_type": "markdown",
   "id": "97daa8db",
   "metadata": {},
   "source": [
    "## Medias de los tratamientos: "
   ]
  },
  {
   "cell_type": "code",
   "execution_count": 51,
   "id": "c5ed073d",
   "metadata": {},
   "outputs": [
    {
     "data": {
      "text/html": [
       "<style>\n",
       ".dl-inline {width: auto; margin:0; padding: 0}\n",
       ".dl-inline>dt, .dl-inline>dd {float: none; width: auto; display: inline-block}\n",
       ".dl-inline>dt::after {content: \":\\0020\"; padding-right: .5ex}\n",
       ".dl-inline>dt:not(:first-of-type) {padding-left: .5ex}\n",
       "</style><dl class=dl-inline><dt>a</dt><dd>7.5</dd><dt>b</dt><dd>9.25</dd><dt>c</dt><dd>13.25</dd><dt>d</dt><dd>11</dd></dl>\n"
      ],
      "text/latex": [
       "\\begin{description*}\n",
       "\\item[a] 7.5\n",
       "\\item[b] 9.25\n",
       "\\item[c] 13.25\n",
       "\\item[d] 11\n",
       "\\end{description*}\n"
      ],
      "text/markdown": [
       "a\n",
       ":   7.5b\n",
       ":   9.25c\n",
       ":   13.25d\n",
       ":   11\n",
       "\n"
      ],
      "text/plain": [
       "    a     b     c     d \n",
       " 7.50  9.25 13.25 11.00 "
      ]
     },
     "metadata": {},
     "output_type": "display_data"
    }
   ],
   "source": [
    "medias <- tapply(y,trat,mean)\n",
    "medias"
   ]
  },
  {
   "cell_type": "markdown",
   "id": "8eb61c76",
   "metadata": {},
   "source": [
    "Medidas ordenadas de menor a mayor:"
   ]
  },
  {
   "cell_type": "code",
   "execution_count": 52,
   "id": "d9ca936d",
   "metadata": {},
   "outputs": [
    {
     "data": {
      "text/html": [
       "<style>\n",
       ".dl-inline {width: auto; margin:0; padding: 0}\n",
       ".dl-inline>dt, .dl-inline>dd {float: none; width: auto; display: inline-block}\n",
       ".dl-inline>dt::after {content: \":\\0020\"; padding-right: .5ex}\n",
       ".dl-inline>dt:not(:first-of-type) {padding-left: .5ex}\n",
       "</style><dl class=dl-inline><dt>a</dt><dd>7.5</dd><dt>b</dt><dd>9.25</dd><dt>d</dt><dd>11</dd><dt>c</dt><dd>13.25</dd></dl>\n"
      ],
      "text/latex": [
       "\\begin{description*}\n",
       "\\item[a] 7.5\n",
       "\\item[b] 9.25\n",
       "\\item[d] 11\n",
       "\\item[c] 13.25\n",
       "\\end{description*}\n"
      ],
      "text/markdown": [
       "a\n",
       ":   7.5b\n",
       ":   9.25d\n",
       ":   11c\n",
       ":   13.25\n",
       "\n"
      ],
      "text/plain": [
       "    a     b     d     c \n",
       " 7.50  9.25 11.00 13.25 "
      ]
     },
     "metadata": {},
     "output_type": "display_data"
    }
   ],
   "source": [
    "ordenando <- sort(medias)\n",
    "ordenando"
   ]
  },
  {
   "cell_type": "markdown",
   "id": "31d5da85",
   "metadata": {},
   "source": [
    "Creando la gráfica de intervalos de confianza para las medias de cada tratamiento:"
   ]
  },
  {
   "cell_type": "code",
   "execution_count": 53,
   "id": "fd193221",
   "metadata": {},
   "outputs": [
    {
     "data": {
      "text/html": [
       "<style>\n",
       ".dl-inline {width: auto; margin:0; padding: 0}\n",
       ".dl-inline>dt, .dl-inline>dd {float: none; width: auto; display: inline-block}\n",
       ".dl-inline>dt::after {content: \":\\0020\"; padding-right: .5ex}\n",
       ".dl-inline>dt:not(:first-of-type) {padding-left: .5ex}\n",
       "</style><dl class=dl-inline><dt>a</dt><dd>7.5</dd><dt>b</dt><dd>9.25</dd><dt>c</dt><dd>13.25</dd><dt>d</dt><dd>11</dd></dl>\n"
      ],
      "text/latex": [
       "\\begin{description*}\n",
       "\\item[a] 7.5\n",
       "\\item[b] 9.25\n",
       "\\item[c] 13.25\n",
       "\\item[d] 11\n",
       "\\end{description*}\n"
      ],
      "text/markdown": [
       "a\n",
       ":   7.5b\n",
       ":   9.25c\n",
       ":   13.25d\n",
       ":   11\n",
       "\n"
      ],
      "text/plain": [
       "    a     b     c     d \n",
       " 7.50  9.25 13.25 11.00 "
      ]
     },
     "metadata": {},
     "output_type": "display_data"
    }
   ],
   "source": [
    "ybar <- tapply(y,trat,mean)\n",
    "ybar"
   ]
  },
  {
   "cell_type": "code",
   "execution_count": 54,
   "id": "2ef328e4",
   "metadata": {},
   "outputs": [
    {
     "data": {
      "text/html": [
       "<style>\n",
       ".dl-inline {width: auto; margin:0; padding: 0}\n",
       ".dl-inline>dt, .dl-inline>dd {float: none; width: auto; display: inline-block}\n",
       ".dl-inline>dt::after {content: \":\\0020\"; padding-right: .5ex}\n",
       ".dl-inline>dt:not(:first-of-type) {padding-left: .5ex}\n",
       "</style><dl class=dl-inline><dt>a</dt><dd>4</dd><dt>b</dt><dd>4</dd><dt>c</dt><dd>4</dd><dt>d</dt><dd>4</dd></dl>\n"
      ],
      "text/latex": [
       "\\begin{description*}\n",
       "\\item[a] 4\n",
       "\\item[b] 4\n",
       "\\item[c] 4\n",
       "\\item[d] 4\n",
       "\\end{description*}\n"
      ],
      "text/markdown": [
       "a\n",
       ":   4b\n",
       ":   4c\n",
       ":   4d\n",
       ":   4\n",
       "\n"
      ],
      "text/plain": [
       "a b c d \n",
       "4 4 4 4 "
      ]
     },
     "metadata": {},
     "output_type": "display_data"
    }
   ],
   "source": [
    "n <- tapply(y,trat,length)\n",
    "n"
   ]
  },
  {
   "cell_type": "markdown",
   "id": "7ee8b8f0",
   "metadata": {},
   "source": [
    "Calculando los cuadrados medios del error:"
   ]
  },
  {
   "cell_type": "code",
   "execution_count": 55,
   "id": "33b0e74c",
   "metadata": {},
   "outputs": [
    {
     "data": {
      "text/html": [
       "1.75"
      ],
      "text/latex": [
       "1.75"
      ],
      "text/markdown": [
       "1.75"
      ],
      "text/plain": [
       "[1] 1.75"
      ]
     },
     "metadata": {},
     "output_type": "display_data"
    }
   ],
   "source": [
    "CME <- anova(m1)[\"Residuals\", \"Mean Sq\"]\n",
    "CME"
   ]
  },
  {
   "cell_type": "markdown",
   "id": "cc02d5e6",
   "metadata": {},
   "source": [
    "Calculando el error estándar de las medias:"
   ]
  },
  {
   "cell_type": "code",
   "execution_count": 56,
   "id": "11ffe0de",
   "metadata": {},
   "outputs": [
    {
     "data": {
      "text/html": [
       "<style>\n",
       ".dl-inline {width: auto; margin:0; padding: 0}\n",
       ".dl-inline>dt, .dl-inline>dd {float: none; width: auto; display: inline-block}\n",
       ".dl-inline>dt::after {content: \":\\0020\"; padding-right: .5ex}\n",
       ".dl-inline>dt:not(:first-of-type) {padding-left: .5ex}\n",
       "</style><dl class=dl-inline><dt>a</dt><dd>0.661437827766148</dd><dt>b</dt><dd>0.661437827766148</dd><dt>c</dt><dd>0.661437827766148</dd><dt>d</dt><dd>0.661437827766148</dd></dl>\n"
      ],
      "text/latex": [
       "\\begin{description*}\n",
       "\\item[a] 0.661437827766148\n",
       "\\item[b] 0.661437827766148\n",
       "\\item[c] 0.661437827766148\n",
       "\\item[d] 0.661437827766148\n",
       "\\end{description*}\n"
      ],
      "text/markdown": [
       "a\n",
       ":   0.661437827766148b\n",
       ":   0.661437827766148c\n",
       ":   0.661437827766148d\n",
       ":   0.661437827766148\n",
       "\n"
      ],
      "text/plain": [
       "        a         b         c         d \n",
       "0.6614378 0.6614378 0.6614378 0.6614378 "
      ]
     },
     "metadata": {},
     "output_type": "display_data"
    }
   ],
   "source": [
    "sem <- sqrt(CME/n)\n",
    "sem"
   ]
  },
  {
   "cell_type": "markdown",
   "id": "4b62791f",
   "metadata": {},
   "source": [
    "Calculando el cuantil:"
   ]
  },
  {
   "cell_type": "code",
   "execution_count": 57,
   "id": "d0d841ad",
   "metadata": {},
   "outputs": [
    {
     "data": {
      "text/html": [
       "6"
      ],
      "text/latex": [
       "6"
      ],
      "text/markdown": [
       "6"
      ],
      "text/plain": [
       "[1] 6"
      ]
     },
     "metadata": {},
     "output_type": "display_data"
    }
   ],
   "source": [
    "gle <- anova(m1)[\"Residuals\", \"Df\"]\n",
    "gle"
   ]
  },
  {
   "cell_type": "code",
   "execution_count": 58,
   "id": "144d17ac",
   "metadata": {},
   "outputs": [
    {
     "data": {
      "text/html": [
       "2.44691185114497"
      ],
      "text/latex": [
       "2.44691185114497"
      ],
      "text/markdown": [
       "2.44691185114497"
      ],
      "text/plain": [
       "[1] 2.446912"
      ]
     },
     "metadata": {},
     "output_type": "display_data"
    }
   ],
   "source": [
    "cuantil <- qt(0.975,gle)\n",
    "cuantil"
   ]
  },
  {
   "cell_type": "markdown",
   "id": "c36b9e3a",
   "metadata": {},
   "source": [
    "Ahora, con todo lo que acabamos de calcular, hacemos la gráfica:"
   ]
  },
  {
   "cell_type": "code",
   "execution_count": 59,
   "id": "e9821261",
   "metadata": {},
   "outputs": [
    {
     "data": {
      "image/png": "[encoded data removed]",
      "text/plain": [
       "plot without title"
      ]
     },
     "metadata": {
      "image/png": {
       "height": 420,
       "width": 420
      }
     },
     "output_type": "display_data"
    }
   ],
   "source": [
    "plot.new()\n",
    "stripchart(y~trat,pch=16,vert=T)\n",
    "arrows(1:4,medias+cuantil*sem,1:4,medias-cuantil*sem,angle=90,code=3,length=.1)\n",
    "lines(1:4,medias,pch=4,type=\"b\",cex=2)"
   ]
  },
  {
   "cell_type": "markdown",
   "id": "73322d11",
   "metadata": {},
   "source": [
    "# Diagnóstico del modelo"
   ]
  },
  {
   "cell_type": "markdown",
   "id": "83b8ab35",
   "metadata": {},
   "source": [
    "## Análisis de residuos"
   ]
  },
  {
   "cell_type": "code",
   "execution_count": null,
   "id": "8a805763",
   "metadata": {
    "collapsed": true
   },
   "outputs": [],
   "source": [
    "residuos<-m1$res\n",
    "estimados<-m1$fitt"
   ]
  },
  {
   "cell_type": "markdown",
   "id": "892878ae",
   "metadata": {},
   "source": [
    "## Probando la normalidad de los errores "
   ]
  },
  {
   "cell_type": "markdown",
   "id": "041e916f",
   "metadata": {},
   "source": [
    "### Histograma de los residuos"
   ]
  },
  {
   "cell_type": "code",
   "execution_count": 60,
   "id": "17bf86de",
   "metadata": {},
   "outputs": [
    {
     "data": {
      "image/png": "[encoded data removed]",
      "text/plain": [
       "Plot with title “Histogram of residuos”"
      ]
     },
     "metadata": {
      "image/png": {
       "height": 420,
       "width": 420
      }
     },
     "output_type": "display_data"
    }
   ],
   "source": [
    "hist(residuos, prob=T, col=\"gray\")\n",
    "x=residuos\n",
    "m<-mean(x)\n",
    "s<-sd(x)\n",
    "curve(dnorm(x,mean=m,sd=s), col=\"blue\", add=TRUE)"
   ]
  },
  {
   "cell_type": "markdown",
   "id": "1dac3ba0",
   "metadata": {},
   "source": [
    "### Diagrama de caja "
   ]
  },
  {
   "cell_type": "code",
   "execution_count": 61,
   "id": "4120ff12",
   "metadata": {},
   "outputs": [
    {
     "data": {
      "image/png": "[encoded data removed]",
      "text/plain": [
       "plot without title"
      ]
     },
     "metadata": {
      "image/png": {
       "height": 420,
       "width": 420
      }
     },
     "output_type": "display_data"
    }
   ],
   "source": [
    "boxplot(residuos)"
   ]
  },
  {
   "cell_type": "markdown",
   "id": "2c8e939a",
   "metadata": {},
   "source": [
    "### Gráfica normal "
   ]
  },
  {
   "cell_type": "code",
   "execution_count": 62,
   "id": "9647f6f7",
   "metadata": {},
   "outputs": [
    {
     "data": {
      "image/png": "[encoded data removed]",
      "text/plain": [
       "Plot with title “Normal Q-Q Plot”"
      ]
     },
     "metadata": {
      "image/png": {
       "height": 420,
       "width": 420
      }
     },
     "output_type": "display_data"
    }
   ],
   "source": [
    "qqnorm(residuos)\n",
    "qqline(residuos)"
   ]
  },
  {
   "cell_type": "markdown",
   "id": "af8d37ed",
   "metadata": {},
   "source": [
    "### Prueba de normalidad"
   ]
  },
  {
   "cell_type": "markdown",
   "id": "13d1e735",
   "metadata": {},
   "source": [
    "* Los datos(residuos) se ajustan a una distribución normal  vs \n",
    "* Ha: Los datos(residuos) no se ajustan a una distribución normal."
   ]
  },
  {
   "cell_type": "code",
   "execution_count": 43,
   "id": "16e4d483",
   "metadata": {},
   "outputs": [
    {
     "data": {
      "text/plain": [
       "\n",
       "\tShapiro-Wilk normality test\n",
       "\n",
       "data:  residuos\n",
       "W = 0.94092, p-value = 0.3604\n"
      ]
     },
     "metadata": {},
     "output_type": "display_data"
    }
   ],
   "source": [
    "shapiro.test(residuos)"
   ]
  },
  {
   "cell_type": "markdown",
   "id": "8235187d",
   "metadata": {},
   "source": [
    "Ya que $p>0.05$ no se rechaza la hipótesis nula, así que los residuos se ajustan a una distribución normal."
   ]
  },
  {
   "cell_type": "markdown",
   "id": "82b06f9b",
   "metadata": {},
   "source": [
    "Probando la independencia de los errores:"
   ]
  },
  {
   "cell_type": "code",
   "execution_count": 64,
   "id": "cbb23571",
   "metadata": {},
   "outputs": [
    {
     "data": {
      "image/png": "[encoded data removed]",
      "text/plain": [
       "plot without title"
      ]
     },
     "metadata": {
      "image/png": {
       "height": 420,
       "width": 420
      }
     },
     "output_type": "display_data"
    }
   ],
   "source": [
    "plot(residuos)"
   ]
  },
  {
   "cell_type": "markdown",
   "id": "ebd993c6",
   "metadata": {},
   "source": [
    "## Probando la autocorrelación de los datos "
   ]
  },
  {
   "cell_type": "code",
   "execution_count": null,
   "id": "1d042ee4",
   "metadata": {
    "collapsed": true
   },
   "outputs": [],
   "source": [
    "library(tseries)"
   ]
  },
  {
   "cell_type": "markdown",
   "id": "cbc27364",
   "metadata": {},
   "source": [
    "* La prueba de rachas se utiliza para probar autocorrelación de datos.\n",
    "* Prueba que el signo de los datos es aleatorio:\n",
    "    * Ho: No hay correlacion vs Ha: Sí hay correlación"
   ]
  },
  {
   "cell_type": "code",
   "execution_count": 65,
   "id": "fa2742af",
   "metadata": {},
   "outputs": [
    {
     "data": {
      "text/plain": [
       "\n",
       "\tRuns Test\n",
       "\n",
       "data:  as.factor(m1$residual < 0)\n",
       "Standard Normal = 0.51755, p-value = 0.6048\n",
       "alternative hypothesis: two.sided\n"
      ]
     },
     "metadata": {},
     "output_type": "display_data"
    }
   ],
   "source": [
    "runs.test(as.factor(m1$residual<0))"
   ]
  },
  {
   "cell_type": "markdown",
   "id": "95db8f06",
   "metadata": {},
   "source": [
    "Dado el valor de $p$, no se rechaza Ho, por lo que no hay correlación de los datos."
   ]
  },
  {
   "cell_type": "markdown",
   "id": "4caac732",
   "metadata": {},
   "source": [
    "## Probando la homogeneidad de la varianza: "
   ]
  },
  {
   "cell_type": "markdown",
   "id": "c4dc5ce0",
   "metadata": {},
   "source": [
    "### Gráfica de residuos vs estimados"
   ]
  },
  {
   "cell_type": "code",
   "execution_count": 63,
   "id": "e2effbe4",
   "metadata": {},
   "outputs": [
    {
     "data": {
      "image/png": "[encoded data removed]",
      "text/plain": [
       "Plot with title “Gráfica de residuos vs estimados”"
      ]
     },
     "metadata": {
      "image/png": {
       "height": 420,
       "width": 420
      }
     },
     "output_type": "display_data"
    }
   ],
   "source": [
    "plot(estimados,residuos,xlab=\"Estimados\",ylab=\"Residuos\",main=\"Gráfica de residuos vs estimados\")"
   ]
  },
  {
   "cell_type": "markdown",
   "id": "deeb7513",
   "metadata": {},
   "source": [
    "## Prueba de homogeneidad de varianza, (homocedasticidad) "
   ]
  },
  {
   "cell_type": "markdown",
   "id": "dce7f758",
   "metadata": {},
   "source": [
    "* Ho: las varianzas de los tratamientos son homogéneas vs \n",
    "* Ha: las varianzas de los trat. no son Homogéneas."
   ]
  },
  {
   "cell_type": "code",
   "execution_count": 66,
   "id": "82b0ff4f",
   "metadata": {},
   "outputs": [
    {
     "data": {
      "text/plain": [
       "\n",
       "\tBartlett test of homogeneity of variances\n",
       "\n",
       "data:  residuos and trat\n",
       "Bartlett's K-squared = 1.0104, df = 3, p-value = 0.7987\n"
      ]
     },
     "metadata": {},
     "output_type": "display_data"
    }
   ],
   "source": [
    "bartlett.test(residuos,trat)"
   ]
  },
  {
   "cell_type": "markdown",
   "id": "d4776ff2",
   "metadata": {},
   "source": [
    "No se rechaza la hipótesis nula, así que las varianzas de los tratamientos son homogénas."
   ]
  },
  {
   "cell_type": "code",
   "execution_count": null,
   "id": "0f1fb1a2",
   "metadata": {
    "collapsed": true
   },
   "outputs": [],
   "source": [
    "library(agricolae)\n",
    "library(foreign)\n",
    "library(multcomp)\n",
    "library(LSD)"
   ]
  },
  {
   "cell_type": "markdown",
   "id": "00e9720a",
   "metadata": {},
   "source": [
    "### Prueba de Duncan"
   ]
  },
  {
   "cell_type": "code",
   "execution_count": null,
   "id": "24da9e6a",
   "metadata": {
    "collapsed": true
   },
   "outputs": [],
   "source": [
    "model<-aov(y~trat+orden+operador)\n",
    "out <- duncan.test(model,\"trat\",main=\"Metodos de ensamblado\")"
   ]
  },
  {
   "cell_type": "code",
   "execution_count": 67,
   "id": "e360de83",
   "metadata": {},
   "outputs": [
    {
     "name": "stdout",
     "output_type": "stream",
     "text": [
      "\n",
      "Study: model ~ \"trat\"\n",
      "\n",
      "Duncan's new multiple range test\n",
      "for y \n",
      "\n",
      "Mean Square Error:  1.75 \n",
      "\n",
      "trat,  means\n",
      "\n",
      "      y      std r Min Max\n",
      "a  7.50 2.081666 4   5  10\n",
      "b  9.25 2.217356 4   7  12\n",
      "c 13.25 3.593976 4  10  18\n",
      "d 11.00 2.160247 4   9  14\n",
      "\n",
      "Alpha: 0.05 ; DF Error: 6 \n",
      "\n",
      "Critical Range\n",
      "       2        3        4 \n",
      "2.288876 2.372245 2.413543 \n",
      "\n",
      "Means with the same letter are not significantly different.\n",
      "\n",
      "      y groups\n",
      "c 13.25      a\n",
      "d 11.00     ab\n",
      "b  9.25     bc\n",
      "a  7.50      c\n"
     ]
    }
   ],
   "source": [
    "duncan.test(model,\"trat\",alpha=0.05,console=TRUE)"
   ]
  },
  {
   "cell_type": "markdown",
   "id": "5c5dda61",
   "metadata": {},
   "source": [
    "### Prueba se Scheffe "
   ]
  },
  {
   "cell_type": "code",
   "execution_count": 68,
   "id": "fa3419ad",
   "metadata": {},
   "outputs": [
    {
     "name": "stdout",
     "output_type": "stream",
     "text": [
      "\n",
      "Study: metodos\n",
      "\n",
      "Scheffe Test for y \n",
      "\n",
      "Mean Square Error  : 1.75 \n",
      "\n",
      "trat,  means\n",
      "\n",
      "      y      std r Min Max\n",
      "a  7.50 2.081666 4   5  10\n",
      "b  9.25 2.217356 4   7  12\n",
      "c 13.25 3.593976 4  10  18\n",
      "d 11.00 2.160247 4   9  14\n",
      "\n",
      "Alpha: 0.05 ; DF Error: 6 \n",
      "Critical Value of F: 4.757063 \n",
      "\n",
      "Minimum Significant Difference: 3.533736 \n",
      "\n",
      "Means with the same letter are not significantly different.\n",
      "\n",
      "      y groups\n",
      "c 13.25      a\n",
      "d 11.00     ab\n",
      "b  9.25      b\n",
      "a  7.50      b\n"
     ]
    }
   ],
   "source": [
    "comparison <- scheffe.test(model,\"trat\", group=TRUE,console=TRUE,main=\"metodos\")"
   ]
  },
  {
   "cell_type": "code",
   "execution_count": null,
   "id": "31ce0ddf",
   "metadata": {
    "collapsed": true
   },
   "outputs": [],
   "source": []
  }
 ],
 "metadata": {
  "kernelspec": {
   "display_name": "R",
   "language": "R",
   "name": "ir"
  },
  "language_info": {
   "codemirror_mode": "r",
   "file_extension": ".r",
   "mimetype": "text/x-r-source",
   "name": "R",
   "pygments_lexer": "r",
   "version": "4.1.1"
  }
 },
 "nbformat": 4,
 "nbformat_minor": 5
}
