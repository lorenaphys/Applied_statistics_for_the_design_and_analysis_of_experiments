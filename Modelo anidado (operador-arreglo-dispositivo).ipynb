{
 "cells": [
  {
   "cell_type": "code",
   "execution_count": 1,
   "id": "07901255",
   "metadata": {},
   "outputs": [],
   "source": [
    "arreglo <- as.factor(rep(c(1,2),each=24))"
   ]
  },
  {
   "cell_type": "code",
   "execution_count": 2,
   "id": "89ece9ef",
   "metadata": {},
   "outputs": [],
   "source": [
    "operador <- as.factor(rep(c(1,2,3,4),12))"
   ]
  },
  {
   "cell_type": "code",
   "execution_count": 3,
   "id": "ae3305e6",
   "metadata": {},
   "outputs": [],
   "source": [
    "dispositivo <- as.factor(rep(rep(c(1,2,3),each=8),2))"
   ]
  },
  {
   "cell_type": "code",
   "execution_count": 4,
   "id": "a3a2e2ac",
   "metadata": {},
   "outputs": [],
   "source": [
    "y <- c(22,23,28,25,24,24,29,23,30,29,30,27,27,28,32,25,\n",
    "       25,24,27,26,21,22,25,23,26,27,28,24,28,25,25,23,\n",
    "       29,30,24,28,28,27,23,30,27,26,24,28,25,24,27,27)"
   ]
  },
  {
   "cell_type": "markdown",
   "id": "ad598c4c",
   "metadata": {},
   "source": [
    "ponemos en un DataFrame los datos:"
   ]
  },
  {
   "cell_type": "code",
   "execution_count": 5,
   "id": "ed23e974",
   "metadata": {},
   "outputs": [
    {
     "data": {
      "text/html": [
       "<table class=\"dataframe\">\n",
       "<caption>A data.frame: 48 × 4</caption>\n",
       "<thead>\n",
       "\t<tr><th scope=col>arreglo</th><th scope=col>operador</th><th scope=col>dispositivo</th><th scope=col>y</th></tr>\n",
       "\t<tr><th scope=col>&lt;dbl&gt;</th><th scope=col>&lt;dbl&gt;</th><th scope=col>&lt;dbl&gt;</th><th scope=col>&lt;dbl&gt;</th></tr>\n",
       "</thead>\n",
       "<tbody>\n",
       "\t<tr><td>1</td><td>1</td><td>1</td><td>22</td></tr>\n",
       "\t<tr><td>1</td><td>2</td><td>1</td><td>23</td></tr>\n",
       "\t<tr><td>1</td><td>3</td><td>1</td><td>28</td></tr>\n",
       "\t<tr><td>1</td><td>4</td><td>1</td><td>25</td></tr>\n",
       "\t<tr><td>1</td><td>1</td><td>1</td><td>24</td></tr>\n",
       "\t<tr><td>1</td><td>2</td><td>1</td><td>24</td></tr>\n",
       "\t<tr><td>1</td><td>3</td><td>1</td><td>29</td></tr>\n",
       "\t<tr><td>1</td><td>4</td><td>1</td><td>23</td></tr>\n",
       "\t<tr><td>1</td><td>1</td><td>2</td><td>30</td></tr>\n",
       "\t<tr><td>1</td><td>2</td><td>2</td><td>29</td></tr>\n",
       "\t<tr><td>1</td><td>3</td><td>2</td><td>30</td></tr>\n",
       "\t<tr><td>1</td><td>4</td><td>2</td><td>27</td></tr>\n",
       "\t<tr><td>1</td><td>1</td><td>2</td><td>27</td></tr>\n",
       "\t<tr><td>1</td><td>2</td><td>2</td><td>28</td></tr>\n",
       "\t<tr><td>1</td><td>3</td><td>2</td><td>32</td></tr>\n",
       "\t<tr><td>1</td><td>4</td><td>2</td><td>25</td></tr>\n",
       "\t<tr><td>1</td><td>1</td><td>3</td><td>25</td></tr>\n",
       "\t<tr><td>1</td><td>2</td><td>3</td><td>24</td></tr>\n",
       "\t<tr><td>1</td><td>3</td><td>3</td><td>27</td></tr>\n",
       "\t<tr><td>1</td><td>4</td><td>3</td><td>26</td></tr>\n",
       "\t<tr><td>1</td><td>1</td><td>3</td><td>21</td></tr>\n",
       "\t<tr><td>1</td><td>2</td><td>3</td><td>22</td></tr>\n",
       "\t<tr><td>1</td><td>3</td><td>3</td><td>25</td></tr>\n",
       "\t<tr><td>1</td><td>4</td><td>3</td><td>23</td></tr>\n",
       "\t<tr><td>2</td><td>1</td><td>1</td><td>26</td></tr>\n",
       "\t<tr><td>2</td><td>2</td><td>1</td><td>27</td></tr>\n",
       "\t<tr><td>2</td><td>3</td><td>1</td><td>28</td></tr>\n",
       "\t<tr><td>2</td><td>4</td><td>1</td><td>24</td></tr>\n",
       "\t<tr><td>2</td><td>1</td><td>1</td><td>28</td></tr>\n",
       "\t<tr><td>2</td><td>2</td><td>1</td><td>25</td></tr>\n",
       "\t<tr><td>2</td><td>3</td><td>1</td><td>25</td></tr>\n",
       "\t<tr><td>2</td><td>4</td><td>1</td><td>23</td></tr>\n",
       "\t<tr><td>2</td><td>1</td><td>2</td><td>29</td></tr>\n",
       "\t<tr><td>2</td><td>2</td><td>2</td><td>30</td></tr>\n",
       "\t<tr><td>2</td><td>3</td><td>2</td><td>24</td></tr>\n",
       "\t<tr><td>2</td><td>4</td><td>2</td><td>28</td></tr>\n",
       "\t<tr><td>2</td><td>1</td><td>2</td><td>28</td></tr>\n",
       "\t<tr><td>2</td><td>2</td><td>2</td><td>27</td></tr>\n",
       "\t<tr><td>2</td><td>3</td><td>2</td><td>23</td></tr>\n",
       "\t<tr><td>2</td><td>4</td><td>2</td><td>30</td></tr>\n",
       "\t<tr><td>2</td><td>1</td><td>3</td><td>27</td></tr>\n",
       "\t<tr><td>2</td><td>2</td><td>3</td><td>26</td></tr>\n",
       "\t<tr><td>2</td><td>3</td><td>3</td><td>24</td></tr>\n",
       "\t<tr><td>2</td><td>4</td><td>3</td><td>28</td></tr>\n",
       "\t<tr><td>2</td><td>1</td><td>3</td><td>25</td></tr>\n",
       "\t<tr><td>2</td><td>2</td><td>3</td><td>24</td></tr>\n",
       "\t<tr><td>2</td><td>3</td><td>3</td><td>27</td></tr>\n",
       "\t<tr><td>2</td><td>4</td><td>3</td><td>27</td></tr>\n",
       "</tbody>\n",
       "</table>\n"
      ],
      "text/latex": [
       "A data.frame: 48 × 4\n",
       "\\begin{tabular}{llll}\n",
       " arreglo & operador & dispositivo & y\\\\\n",
       " <dbl> & <dbl> & <dbl> & <dbl>\\\\\n",
       "\\hline\n",
       "\t 1 & 1 & 1 & 22\\\\\n",
       "\t 1 & 2 & 1 & 23\\\\\n",
       "\t 1 & 3 & 1 & 28\\\\\n",
       "\t 1 & 4 & 1 & 25\\\\\n",
       "\t 1 & 1 & 1 & 24\\\\\n",
       "\t 1 & 2 & 1 & 24\\\\\n",
       "\t 1 & 3 & 1 & 29\\\\\n",
       "\t 1 & 4 & 1 & 23\\\\\n",
       "\t 1 & 1 & 2 & 30\\\\\n",
       "\t 1 & 2 & 2 & 29\\\\\n",
       "\t 1 & 3 & 2 & 30\\\\\n",
       "\t 1 & 4 & 2 & 27\\\\\n",
       "\t 1 & 1 & 2 & 27\\\\\n",
       "\t 1 & 2 & 2 & 28\\\\\n",
       "\t 1 & 3 & 2 & 32\\\\\n",
       "\t 1 & 4 & 2 & 25\\\\\n",
       "\t 1 & 1 & 3 & 25\\\\\n",
       "\t 1 & 2 & 3 & 24\\\\\n",
       "\t 1 & 3 & 3 & 27\\\\\n",
       "\t 1 & 4 & 3 & 26\\\\\n",
       "\t 1 & 1 & 3 & 21\\\\\n",
       "\t 1 & 2 & 3 & 22\\\\\n",
       "\t 1 & 3 & 3 & 25\\\\\n",
       "\t 1 & 4 & 3 & 23\\\\\n",
       "\t 2 & 1 & 1 & 26\\\\\n",
       "\t 2 & 2 & 1 & 27\\\\\n",
       "\t 2 & 3 & 1 & 28\\\\\n",
       "\t 2 & 4 & 1 & 24\\\\\n",
       "\t 2 & 1 & 1 & 28\\\\\n",
       "\t 2 & 2 & 1 & 25\\\\\n",
       "\t 2 & 3 & 1 & 25\\\\\n",
       "\t 2 & 4 & 1 & 23\\\\\n",
       "\t 2 & 1 & 2 & 29\\\\\n",
       "\t 2 & 2 & 2 & 30\\\\\n",
       "\t 2 & 3 & 2 & 24\\\\\n",
       "\t 2 & 4 & 2 & 28\\\\\n",
       "\t 2 & 1 & 2 & 28\\\\\n",
       "\t 2 & 2 & 2 & 27\\\\\n",
       "\t 2 & 3 & 2 & 23\\\\\n",
       "\t 2 & 4 & 2 & 30\\\\\n",
       "\t 2 & 1 & 3 & 27\\\\\n",
       "\t 2 & 2 & 3 & 26\\\\\n",
       "\t 2 & 3 & 3 & 24\\\\\n",
       "\t 2 & 4 & 3 & 28\\\\\n",
       "\t 2 & 1 & 3 & 25\\\\\n",
       "\t 2 & 2 & 3 & 24\\\\\n",
       "\t 2 & 3 & 3 & 27\\\\\n",
       "\t 2 & 4 & 3 & 27\\\\\n",
       "\\end{tabular}\n"
      ],
      "text/markdown": [
       "\n",
       "A data.frame: 48 × 4\n",
       "\n",
       "| arreglo &lt;dbl&gt; | operador &lt;dbl&gt; | dispositivo &lt;dbl&gt; | y &lt;dbl&gt; |\n",
       "|---|---|---|---|\n",
       "| 1 | 1 | 1 | 22 |\n",
       "| 1 | 2 | 1 | 23 |\n",
       "| 1 | 3 | 1 | 28 |\n",
       "| 1 | 4 | 1 | 25 |\n",
       "| 1 | 1 | 1 | 24 |\n",
       "| 1 | 2 | 1 | 24 |\n",
       "| 1 | 3 | 1 | 29 |\n",
       "| 1 | 4 | 1 | 23 |\n",
       "| 1 | 1 | 2 | 30 |\n",
       "| 1 | 2 | 2 | 29 |\n",
       "| 1 | 3 | 2 | 30 |\n",
       "| 1 | 4 | 2 | 27 |\n",
       "| 1 | 1 | 2 | 27 |\n",
       "| 1 | 2 | 2 | 28 |\n",
       "| 1 | 3 | 2 | 32 |\n",
       "| 1 | 4 | 2 | 25 |\n",
       "| 1 | 1 | 3 | 25 |\n",
       "| 1 | 2 | 3 | 24 |\n",
       "| 1 | 3 | 3 | 27 |\n",
       "| 1 | 4 | 3 | 26 |\n",
       "| 1 | 1 | 3 | 21 |\n",
       "| 1 | 2 | 3 | 22 |\n",
       "| 1 | 3 | 3 | 25 |\n",
       "| 1 | 4 | 3 | 23 |\n",
       "| 2 | 1 | 1 | 26 |\n",
       "| 2 | 2 | 1 | 27 |\n",
       "| 2 | 3 | 1 | 28 |\n",
       "| 2 | 4 | 1 | 24 |\n",
       "| 2 | 1 | 1 | 28 |\n",
       "| 2 | 2 | 1 | 25 |\n",
       "| 2 | 3 | 1 | 25 |\n",
       "| 2 | 4 | 1 | 23 |\n",
       "| 2 | 1 | 2 | 29 |\n",
       "| 2 | 2 | 2 | 30 |\n",
       "| 2 | 3 | 2 | 24 |\n",
       "| 2 | 4 | 2 | 28 |\n",
       "| 2 | 1 | 2 | 28 |\n",
       "| 2 | 2 | 2 | 27 |\n",
       "| 2 | 3 | 2 | 23 |\n",
       "| 2 | 4 | 2 | 30 |\n",
       "| 2 | 1 | 3 | 27 |\n",
       "| 2 | 2 | 3 | 26 |\n",
       "| 2 | 3 | 3 | 24 |\n",
       "| 2 | 4 | 3 | 28 |\n",
       "| 2 | 1 | 3 | 25 |\n",
       "| 2 | 2 | 3 | 24 |\n",
       "| 2 | 3 | 3 | 27 |\n",
       "| 2 | 4 | 3 | 27 |\n",
       "\n"
      ],
      "text/plain": [
       "   arreglo operador dispositivo y \n",
       "1  1       1        1           22\n",
       "2  1       2        1           23\n",
       "3  1       3        1           28\n",
       "4  1       4        1           25\n",
       "5  1       1        1           24\n",
       "6  1       2        1           24\n",
       "7  1       3        1           29\n",
       "8  1       4        1           23\n",
       "9  1       1        2           30\n",
       "10 1       2        2           29\n",
       "11 1       3        2           30\n",
       "12 1       4        2           27\n",
       "13 1       1        2           27\n",
       "14 1       2        2           28\n",
       "15 1       3        2           32\n",
       "16 1       4        2           25\n",
       "17 1       1        3           25\n",
       "18 1       2        3           24\n",
       "19 1       3        3           27\n",
       "20 1       4        3           26\n",
       "21 1       1        3           21\n",
       "22 1       2        3           22\n",
       "23 1       3        3           25\n",
       "24 1       4        3           23\n",
       "25 2       1        1           26\n",
       "26 2       2        1           27\n",
       "27 2       3        1           28\n",
       "28 2       4        1           24\n",
       "29 2       1        1           28\n",
       "30 2       2        1           25\n",
       "31 2       3        1           25\n",
       "32 2       4        1           23\n",
       "33 2       1        2           29\n",
       "34 2       2        2           30\n",
       "35 2       3        2           24\n",
       "36 2       4        2           28\n",
       "37 2       1        2           28\n",
       "38 2       2        2           27\n",
       "39 2       3        2           23\n",
       "40 2       4        2           30\n",
       "41 2       1        3           27\n",
       "42 2       2        3           26\n",
       "43 2       3        3           24\n",
       "44 2       4        3           28\n",
       "45 2       1        3           25\n",
       "46 2       2        3           24\n",
       "47 2       3        3           27\n",
       "48 2       4        3           27"
      ]
     },
     "metadata": {},
     "output_type": "display_data"
    }
   ],
   "source": [
    "datos=data.frame(cbind(arreglo,operador,dispositivo,y))\n",
    "datos"
   ]
  },
  {
   "cell_type": "markdown",
   "id": "393f8a50",
   "metadata": {},
   "source": [
    "Definimos cuáles actores son fijos y cuáles aleatorios:"
   ]
  },
  {
   "cell_type": "code",
   "execution_count": null,
   "id": "f2102327",
   "metadata": {},
   "outputs": [],
   "source": [
    "library(Matrix)\n",
    "library(GAD)"
   ]
  },
  {
   "cell_type": "code",
   "execution_count": 8,
   "id": "6bb1b4c8",
   "metadata": {},
   "outputs": [],
   "source": [
    "arreglo <- as.factor(arreglo)\n",
    "arreglo <- as.fixed(arreglo)\n",
    "dispositivo <- as.factor(dispositivo)\n",
    "dispositivo <- as.fixed(dispositivo)\n",
    "operador <- as.factor(operador)\n",
    "operador <- as.random(operador)"
   ]
  },
  {
   "cell_type": "markdown",
   "id": "0ffcd573",
   "metadata": {},
   "source": [
    "Definimos el modelo:"
   ]
  },
  {
   "cell_type": "code",
   "execution_count": 9,
   "id": "0233ed1c",
   "metadata": {},
   "outputs": [],
   "source": [
    "mod1 <- lm(y~arreglo+dispositivo+operador%in%arreglo+arreglo:dispositivo+operador:dispositivo%in%arreglo)"
   ]
  },
  {
   "cell_type": "code",
   "execution_count": 10,
   "id": "c43da266",
   "metadata": {},
   "outputs": [
    {
     "data": {
      "text/html": [
       "<table class=\"dataframe\">\n",
       "<caption>A anova: 6 × 5</caption>\n",
       "<thead>\n",
       "\t<tr><th></th><th scope=col>Df</th><th scope=col>Sum Sq</th><th scope=col>Mean Sq</th><th scope=col>F value</th><th scope=col>Pr(&gt;F)</th></tr>\n",
       "\t<tr><th></th><th scope=col>&lt;int&gt;</th><th scope=col>&lt;dbl&gt;</th><th scope=col>&lt;dbl&gt;</th><th scope=col>&lt;dbl&gt;</th><th scope=col>&lt;dbl&gt;</th></tr>\n",
       "</thead>\n",
       "<tbody>\n",
       "\t<tr><th scope=row>arreglo</th><td> 1</td><td> 4.083333</td><td> 4.083333</td><td>0.3406721</td><td>0.580704150</td></tr>\n",
       "\t<tr><th scope=row>dispositivo</th><td> 2</td><td>82.791667</td><td>41.395833</td><td>7.5455696</td><td>0.007553076</td></tr>\n",
       "\t<tr><th scope=row>arreglo:operador</th><td> 6</td><td>71.916667</td><td>11.986111</td><td>5.1369048</td><td>0.001605804</td></tr>\n",
       "\t<tr><th scope=row>arreglo:dispositivo</th><td> 2</td><td>19.041667</td><td> 9.520833</td><td>1.7354430</td><td>0.217769146</td></tr>\n",
       "\t<tr><th scope=row>arreglo:dispositivo:operador</th><td>12</td><td>65.833333</td><td> 5.486111</td><td>2.3511905</td><td>0.036043355</td></tr>\n",
       "\t<tr><th scope=row>Residual</th><td>24</td><td>56.000000</td><td> 2.333333</td><td>       NA</td><td>         NA</td></tr>\n",
       "</tbody>\n",
       "</table>\n"
      ],
      "text/latex": [
       "A anova: 6 × 5\n",
       "\\begin{tabular}{r|lllll}\n",
       "  & Df & Sum Sq & Mean Sq & F value & Pr(>F)\\\\\n",
       "  & <int> & <dbl> & <dbl> & <dbl> & <dbl>\\\\\n",
       "\\hline\n",
       "\tarreglo &  1 &  4.083333 &  4.083333 & 0.3406721 & 0.580704150\\\\\n",
       "\tdispositivo &  2 & 82.791667 & 41.395833 & 7.5455696 & 0.007553076\\\\\n",
       "\tarreglo:operador &  6 & 71.916667 & 11.986111 & 5.1369048 & 0.001605804\\\\\n",
       "\tarreglo:dispositivo &  2 & 19.041667 &  9.520833 & 1.7354430 & 0.217769146\\\\\n",
       "\tarreglo:dispositivo:operador & 12 & 65.833333 &  5.486111 & 2.3511905 & 0.036043355\\\\\n",
       "\tResidual & 24 & 56.000000 &  2.333333 &        NA &          NA\\\\\n",
       "\\end{tabular}\n"
      ],
      "text/markdown": [
       "\n",
       "A anova: 6 × 5\n",
       "\n",
       "| <!--/--> | Df &lt;int&gt; | Sum Sq &lt;dbl&gt; | Mean Sq &lt;dbl&gt; | F value &lt;dbl&gt; | Pr(&gt;F) &lt;dbl&gt; |\n",
       "|---|---|---|---|---|---|\n",
       "| arreglo |  1 |  4.083333 |  4.083333 | 0.3406721 | 0.580704150 |\n",
       "| dispositivo |  2 | 82.791667 | 41.395833 | 7.5455696 | 0.007553076 |\n",
       "| arreglo:operador |  6 | 71.916667 | 11.986111 | 5.1369048 | 0.001605804 |\n",
       "| arreglo:dispositivo |  2 | 19.041667 |  9.520833 | 1.7354430 | 0.217769146 |\n",
       "| arreglo:dispositivo:operador | 12 | 65.833333 |  5.486111 | 2.3511905 | 0.036043355 |\n",
       "| Residual | 24 | 56.000000 |  2.333333 |        NA |          NA |\n",
       "\n"
      ],
      "text/plain": [
       "                             Df Sum Sq    Mean Sq   F value   Pr(>F)     \n",
       "arreglo                       1  4.083333  4.083333 0.3406721 0.580704150\n",
       "dispositivo                   2 82.791667 41.395833 7.5455696 0.007553076\n",
       "arreglo:operador              6 71.916667 11.986111 5.1369048 0.001605804\n",
       "arreglo:dispositivo           2 19.041667  9.520833 1.7354430 0.217769146\n",
       "arreglo:dispositivo:operador 12 65.833333  5.486111 2.3511905 0.036043355\n",
       "Residual                     24 56.000000  2.333333        NA          NA"
      ]
     },
     "metadata": {},
     "output_type": "display_data"
    }
   ],
   "source": [
    "gad(mod1)"
   ]
  },
  {
   "cell_type": "markdown",
   "id": "d6f28469",
   "metadata": {},
   "source": [
    "La interacción operador:dispositivo es significativa, lo que implica es que la calificación del operador dependen del dispositivo que use, o que un dispositivo no es mejor que otro, ya que depende del operador que lo use."
   ]
  },
  {
   "cell_type": "markdown",
   "id": "9eeed9fa",
   "metadata": {},
   "source": [
    "Además, la anidación de operador dentro de arreglo es significativo, lo cual implica que no todos los operadores rinden igual, puede ser producto del tiempo que llevan trabajando, o de la capacitación que recibieron."
   ]
  },
  {
   "cell_type": "markdown",
   "id": "5bbed60a",
   "metadata": {},
   "source": [
    "## Estimando los componentes de varianza "
   ]
  },
  {
   "cell_type": "markdown",
   "id": "7a3c3fc4",
   "metadata": {},
   "source": [
    "Componente de varianza para operador dentro del arreglo del sitio del trabajo, **operador(arreglo)**:"
   ]
  },
  {
   "cell_type": "code",
   "execution_count": 15,
   "id": "2b32bf6c",
   "metadata": {},
   "outputs": [],
   "source": [
    "CM_o_a = gad(mod1)['arreglo:operador','Mean Sq']"
   ]
  },
  {
   "cell_type": "code",
   "execution_count": 18,
   "id": "04575dd6",
   "metadata": {},
   "outputs": [],
   "source": [
    "CME = gad(mod1)['Residual','Mean Sq']"
   ]
  },
  {
   "cell_type": "code",
   "execution_count": 23,
   "id": "87dcec6c",
   "metadata": {},
   "outputs": [
    {
     "data": {
      "text/html": [
       "<table class=\"dataframe\">\n",
       "<caption>A anova: 6 × 1</caption>\n",
       "<thead>\n",
       "\t<tr><th></th><th scope=col>Df</th></tr>\n",
       "\t<tr><th></th><th scope=col>&lt;int&gt;</th></tr>\n",
       "</thead>\n",
       "<tbody>\n",
       "\t<tr><th scope=row>arreglo</th><td> 1</td></tr>\n",
       "\t<tr><th scope=row>dispositivo</th><td> 2</td></tr>\n",
       "\t<tr><th scope=row>arreglo:operador</th><td> 6</td></tr>\n",
       "\t<tr><th scope=row>arreglo:dispositivo</th><td> 2</td></tr>\n",
       "\t<tr><th scope=row>arreglo:dispositivo:operador</th><td>12</td></tr>\n",
       "\t<tr><th scope=row>Residual</th><td>24</td></tr>\n",
       "</tbody>\n",
       "</table>\n"
      ],
      "text/latex": [
       "A anova: 6 × 1\n",
       "\\begin{tabular}{r|l}\n",
       "  & Df\\\\\n",
       "  & <int>\\\\\n",
       "\\hline\n",
       "\tarreglo &  1\\\\\n",
       "\tdispositivo &  2\\\\\n",
       "\tarreglo:operador &  6\\\\\n",
       "\tarreglo:dispositivo &  2\\\\\n",
       "\tarreglo:dispositivo:operador & 12\\\\\n",
       "\tResidual & 24\\\\\n",
       "\\end{tabular}\n"
      ],
      "text/markdown": [
       "\n",
       "A anova: 6 × 1\n",
       "\n",
       "| <!--/--> | Df &lt;int&gt; |\n",
       "|---|---|\n",
       "| arreglo |  1 |\n",
       "| dispositivo |  2 |\n",
       "| arreglo:operador |  6 |\n",
       "| arreglo:dispositivo |  2 |\n",
       "| arreglo:dispositivo:operador | 12 |\n",
       "| Residual | 24 |\n",
       "\n"
      ],
      "text/plain": [
       "                             Df\n",
       "arreglo                       1\n",
       "dispositivo                   2\n",
       "arreglo:operador              6\n",
       "arreglo:dispositivo           2\n",
       "arreglo:dispositivo:operador 12\n",
       "Residual                     24"
      ]
     },
     "metadata": {},
     "output_type": "display_data"
    }
   ],
   "source": [
    "gad(mod1)['Df']"
   ]
  },
  {
   "cell_type": "code",
   "execution_count": 22,
   "id": "49edbe5f",
   "metadata": {},
   "outputs": [],
   "source": [
    "var_o_a = (CM_o_a-CME)/gad(mod1)['arreglo:operador','Df']"
   ]
  },
  {
   "cell_type": "markdown",
   "id": "42c7f086",
   "metadata": {},
   "source": [
    "componente de varianza para interacción del dispositivo por operadores dentro del arreglo del sitio del trabajo, **dispositivo*operador(arreglo)**:"
   ]
  },
  {
   "cell_type": "code",
   "execution_count": 27,
   "id": "bf8f6985",
   "metadata": {},
   "outputs": [],
   "source": [
    "CM_d_o = gad(mod1)['arreglo:dispositivo:operador','Mean Sq']"
   ]
  },
  {
   "cell_type": "code",
   "execution_count": 30,
   "id": "a119f7a0",
   "metadata": {},
   "outputs": [],
   "source": [
    "var_d_o = (CM_d_o-CME)/gad(mod1)['dispositivo','Df']"
   ]
  },
  {
   "cell_type": "code",
   "execution_count": 37,
   "id": "e6a3b486",
   "metadata": {},
   "outputs": [
    {
     "data": {
      "text/html": [
       "<style>\n",
       ".list-inline {list-style: none; margin:0; padding: 0}\n",
       ".list-inline>li {display: inline-block}\n",
       ".list-inline>li:not(:last-child)::after {content: \"\\00b7\"; padding: 0 .5ex}\n",
       "</style>\n",
       "<ol class=list-inline><li>1.6087962962963</li><li>1.57638888888889</li><li>2.33333333333333</li></ol>\n"
      ],
      "text/latex": [
       "\\begin{enumerate*}\n",
       "\\item 1.6087962962963\n",
       "\\item 1.57638888888889\n",
       "\\item 2.33333333333333\n",
       "\\end{enumerate*}\n"
      ],
      "text/markdown": [
       "1. 1.6087962962963\n",
       "2. 1.57638888888889\n",
       "3. 2.33333333333333\n",
       "\n",
       "\n"
      ],
      "text/plain": [
       "[1] 1.608796 1.576389 2.333333"
      ]
     },
     "metadata": {},
     "output_type": "display_data"
    }
   ],
   "source": [
    "vars = c(var_o_a, var_d_o,CME)\n",
    "vars"
   ]
  },
  {
   "cell_type": "code",
   "execution_count": 38,
   "id": "61c45fc3",
   "metadata": {},
   "outputs": [
    {
     "data": {
      "text/html": [
       "<style>\n",
       ".list-inline {list-style: none; margin:0; padding: 0}\n",
       ".list-inline>li {display: inline-block}\n",
       ".list-inline>li:not(:last-child)::after {content: \"\\00b7\"; padding: 0 .5ex}\n",
       "</style>\n",
       "<ol class=list-inline><li>29.15</li><li>28.57</li><li>42.28</li></ol>\n"
      ],
      "text/latex": [
       "\\begin{enumerate*}\n",
       "\\item 29.15\n",
       "\\item 28.57\n",
       "\\item 42.28\n",
       "\\end{enumerate*}\n"
      ],
      "text/markdown": [
       "1. 29.15\n",
       "2. 28.57\n",
       "3. 42.28\n",
       "\n",
       "\n"
      ],
      "text/plain": [
       "[1] 29.15 28.57 42.28"
      ]
     },
     "metadata": {},
     "output_type": "display_data"
    }
   ],
   "source": [
    "porcentajes<-round(100*vars/sum(vars),2)\n",
    "porcentajes"
   ]
  },
  {
   "cell_type": "markdown",
   "id": "587b20f6",
   "metadata": {},
   "source": [
    "## Gráfica de pastel "
   ]
  },
  {
   "cell_type": "code",
   "execution_count": 39,
   "id": "715476d4",
   "metadata": {},
   "outputs": [],
   "source": [
    "library(plotrix)"
   ]
  },
  {
   "cell_type": "code",
   "execution_count": 46,
   "id": "a64657b1",
   "metadata": {},
   "outputs": [
    {
     "data": {
      "image/png": "[encoded data removed]",
      "text/plain": [
       "Plot with title “Componentes de varianza”"
      ]
     },
     "metadata": {
      "image/png": {
       "height": 420,
       "width": 420
      }
     },
     "output_type": "display_data"
    }
   ],
   "source": [
    "etiqueta<-paste(porcentajes,\"%\",sep = \"\")\n",
    "colores<-c(\"purple\",\"541\",\"pink\")\n",
    "pie3D(porcentajes,radius=0.9,explode=0.1,main=\"Componentes de varianza\", col=colores, labels = etiqueta)\n",
    "legend(\"top\", inset = 0.1, c(\"operador(arreglo)\",\"Dispositivo X operador (arreglo)\",\"error\"),cex=0.8,fill=colores,bty = 'n')"
   ]
  },
  {
   "cell_type": "markdown",
   "id": "20e45dcb",
   "metadata": {},
   "source": [
    "## Verificando los supuestos del modelo"
   ]
  },
  {
   "cell_type": "markdown",
   "id": "15a4d5e7",
   "metadata": {},
   "source": [
    "### Independencia de los residuos "
   ]
  },
  {
   "cell_type": "code",
   "execution_count": 48,
   "id": "5aea7e47",
   "metadata": {},
   "outputs": [
    {
     "data": {
      "image/png": "[encoded data removed]",
      "text/plain": [
       "plot without title"
      ]
     },
     "metadata": {
      "image/png": {
       "height": 420,
       "width": 420
      }
     },
     "output_type": "display_data"
    }
   ],
   "source": [
    "residuos<-c(mod1$res)\n",
    "plot(residuos)"
   ]
  },
  {
   "cell_type": "code",
   "execution_count": null,
   "id": "604ee352",
   "metadata": {},
   "outputs": [],
   "source": [
    "library(tseries)"
   ]
  },
  {
   "cell_type": "markdown",
   "id": "17283120",
   "metadata": {},
   "source": [
    "#### Prueba de rachas "
   ]
  },
  {
   "cell_type": "code",
   "execution_count": 50,
   "id": "2c3ecd6d",
   "metadata": {},
   "outputs": [
    {
     "data": {
      "text/plain": [
       "\n",
       "\tRuns Test\n",
       "\n",
       "data:  as.factor(mod1$residual > 0)\n",
       "Standard Normal = -1.1672, p-value = 0.2431\n",
       "alternative hypothesis: two.sided\n"
      ]
     },
     "metadata": {},
     "output_type": "display_data"
    }
   ],
   "source": [
    "runs.test(as.factor(mod1$residual>0))"
   ]
  },
  {
   "cell_type": "markdown",
   "id": "16330d1d",
   "metadata": {},
   "source": [
    "Como $p > 0.05$, no se rechaza $H_0$, por lo que los residuos son independientes."
   ]
  },
  {
   "cell_type": "markdown",
   "id": "0d28b918",
   "metadata": {},
   "source": [
    "### Normalidad de los errores"
   ]
  },
  {
   "cell_type": "markdown",
   "id": "87de60e9",
   "metadata": {},
   "source": [
    "#### Gráfica normal "
   ]
  },
  {
   "cell_type": "code",
   "execution_count": 55,
   "id": "79f1bf6a",
   "metadata": {},
   "outputs": [
    {
     "data": {
      "image/png": "[encoded data removed]",
      "text/plain": [
       "Plot with title “Normal Q-Q Plot”"
      ]
     },
     "metadata": {
      "image/png": {
       "height": 420,
       "width": 420
      }
     },
     "output_type": "display_data"
    }
   ],
   "source": [
    "qqnorm(residuos)\n",
    "qqline(residuos, col = 'red')"
   ]
  },
  {
   "cell_type": "markdown",
   "id": "40daed65",
   "metadata": {},
   "source": [
    "#### Histograma "
   ]
  },
  {
   "cell_type": "code",
   "execution_count": 58,
   "id": "437b840c",
   "metadata": {},
   "outputs": [
    {
     "data": {
      "image/png": "[encoded data removed]",
      "text/plain": [
       "Plot with title “Histogram of residuos”"
      ]
     },
     "metadata": {
      "image/png": {
       "height": 420,
       "width": 420
      }
     },
     "output_type": "display_data"
    }
   ],
   "source": [
    "hist(residuos)\n",
    "x = residuos\n",
    "m = mean(x)\n",
    "s = sd(x)\n",
    "curve(dnorm(x, mean = m, sd = s), col = 'red', add = TRUE)"
   ]
  },
  {
   "cell_type": "markdown",
   "id": "6505a162",
   "metadata": {},
   "source": [
    "#### Caja de bigotes "
   ]
  },
  {
   "cell_type": "code",
   "execution_count": 59,
   "id": "d840fb1d",
   "metadata": {},
   "outputs": [
    {
     "data": {
      "image/png": "[encoded data removed]",
      "text/plain": [
       "plot without title"
      ]
     },
     "metadata": {
      "image/png": {
       "height": 420,
       "width": 420
      }
     },
     "output_type": "display_data"
    }
   ],
   "source": [
    "boxplot(residuos)"
   ]
  },
  {
   "cell_type": "markdown",
   "id": "b9d08953",
   "metadata": {},
   "source": [
    "#### Prueba de normalidad"
   ]
  },
  {
   "cell_type": "code",
   "execution_count": 60,
   "id": "a3580074",
   "metadata": {},
   "outputs": [
    {
     "data": {
      "text/plain": [
       "\n",
       "\tShapiro-Wilk normality test\n",
       "\n",
       "data:  residuos\n",
       "W = 0.90691, p-value = 0.001059\n"
      ]
     },
     "metadata": {},
     "output_type": "display_data"
    }
   ],
   "source": [
    "shapiro.test(residuos)"
   ]
  },
  {
   "cell_type": "markdown",
   "id": "9090bcf0",
   "metadata": {},
   "source": [
    "En este caso, $p < 0.05$, así que los residuos no tienen una distribución normal."
   ]
  },
  {
   "cell_type": "code",
   "execution_count": null,
   "id": "548f6b68",
   "metadata": {},
   "outputs": [],
   "source": []
  }
 ],
 "metadata": {
  "kernelspec": {
   "display_name": "R",
   "language": "R",
   "name": "ir"
  },
  "language_info": {
   "codemirror_mode": "r",
   "file_extension": ".r",
   "mimetype": "text/x-r-source",
   "name": "R",
   "pygments_lexer": "r",
   "version": "4.1.1"
  }
 },
 "nbformat": 4,
 "nbformat_minor": 5
}
