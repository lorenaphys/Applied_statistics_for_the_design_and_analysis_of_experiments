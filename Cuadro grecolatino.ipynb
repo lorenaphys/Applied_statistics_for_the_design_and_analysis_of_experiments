{
 "cells": [
  {
   "cell_type": "markdown",
   "id": "e4746a65",
   "metadata": {},
   "source": [
    "# Cuadro grecolatino"
   ]
  },
  {
   "cell_type": "markdown",
   "id": "3acbcf92",
   "metadata": {},
   "source": [
    "Definiendo factores:"
   ]
  },
  {
   "cell_type": "code",
   "execution_count": 4,
   "id": "46e2267d",
   "metadata": {},
   "outputs": [
    {
     "data": {
      "text/html": [
       "<style>\n",
       ".list-inline {list-style: none; margin:0; padding: 0}\n",
       ".list-inline>li {display: inline-block}\n",
       ".list-inline>li:not(:last-child)::after {content: \"\\00b7\"; padding: 0 .5ex}\n",
       "</style>\n",
       "<ol class=list-inline><li>'l'</li><li>'m'</li><li>'mi'</li><li>'j'</li><li>'v'</li><li>'l'</li><li>'m'</li><li>'mi'</li><li>'j'</li><li>'v'</li><li>'l'</li><li>'m'</li><li>'mi'</li><li>'j'</li><li>'v'</li><li>'l'</li><li>'m'</li><li>'mi'</li><li>'j'</li><li>'v'</li><li>'l'</li><li>'m'</li><li>'mi'</li><li>'j'</li><li>'v'</li></ol>\n"
      ],
      "text/latex": [
       "\\begin{enumerate*}\n",
       "\\item 'l'\n",
       "\\item 'm'\n",
       "\\item 'mi'\n",
       "\\item 'j'\n",
       "\\item 'v'\n",
       "\\item 'l'\n",
       "\\item 'm'\n",
       "\\item 'mi'\n",
       "\\item 'j'\n",
       "\\item 'v'\n",
       "\\item 'l'\n",
       "\\item 'm'\n",
       "\\item 'mi'\n",
       "\\item 'j'\n",
       "\\item 'v'\n",
       "\\item 'l'\n",
       "\\item 'm'\n",
       "\\item 'mi'\n",
       "\\item 'j'\n",
       "\\item 'v'\n",
       "\\item 'l'\n",
       "\\item 'm'\n",
       "\\item 'mi'\n",
       "\\item 'j'\n",
       "\\item 'v'\n",
       "\\end{enumerate*}\n"
      ],
      "text/markdown": [
       "1. 'l'\n",
       "2. 'm'\n",
       "3. 'mi'\n",
       "4. 'j'\n",
       "5. 'v'\n",
       "6. 'l'\n",
       "7. 'm'\n",
       "8. 'mi'\n",
       "9. 'j'\n",
       "10. 'v'\n",
       "11. 'l'\n",
       "12. 'm'\n",
       "13. 'mi'\n",
       "14. 'j'\n",
       "15. 'v'\n",
       "16. 'l'\n",
       "17. 'm'\n",
       "18. 'mi'\n",
       "19. 'j'\n",
       "20. 'v'\n",
       "21. 'l'\n",
       "22. 'm'\n",
       "23. 'mi'\n",
       "24. 'j'\n",
       "25. 'v'\n",
       "\n",
       "\n"
      ],
      "text/plain": [
       " [1] \"l\"  \"m\"  \"mi\" \"j\"  \"v\"  \"l\"  \"m\"  \"mi\" \"j\"  \"v\"  \"l\"  \"m\"  \"mi\" \"j\"  \"v\" \n",
       "[16] \"l\"  \"m\"  \"mi\" \"j\"  \"v\"  \"l\"  \"m\"  \"mi\" \"j\"  \"v\" "
      ]
     },
     "metadata": {},
     "output_type": "display_data"
    }
   ],
   "source": [
    "dias <- rep(c('l','m','mi','j','v'),times=5)\n",
    "dias"
   ]
  },
  {
   "cell_type": "code",
   "execution_count": 3,
   "id": "8db45792",
   "metadata": {},
   "outputs": [
    {
     "data": {
      "text/html": [
       "<style>\n",
       ".list-inline {list-style: none; margin:0; padding: 0}\n",
       ".list-inline>li {display: inline-block}\n",
       ".list-inline>li:not(:last-child)::after {content: \"\\00b7\"; padding: 0 .5ex}\n",
       "</style>\n",
       "<ol class=list-inline><li>1</li><li>1</li><li>1</li><li>1</li><li>1</li><li>2</li><li>2</li><li>2</li><li>2</li><li>2</li><li>3</li><li>3</li><li>3</li><li>3</li><li>3</li><li>4</li><li>4</li><li>4</li><li>4</li><li>4</li><li>5</li><li>5</li><li>5</li><li>5</li><li>5</li></ol>\n"
      ],
      "text/latex": [
       "\\begin{enumerate*}\n",
       "\\item 1\n",
       "\\item 1\n",
       "\\item 1\n",
       "\\item 1\n",
       "\\item 1\n",
       "\\item 2\n",
       "\\item 2\n",
       "\\item 2\n",
       "\\item 2\n",
       "\\item 2\n",
       "\\item 3\n",
       "\\item 3\n",
       "\\item 3\n",
       "\\item 3\n",
       "\\item 3\n",
       "\\item 4\n",
       "\\item 4\n",
       "\\item 4\n",
       "\\item 4\n",
       "\\item 4\n",
       "\\item 5\n",
       "\\item 5\n",
       "\\item 5\n",
       "\\item 5\n",
       "\\item 5\n",
       "\\end{enumerate*}\n"
      ],
      "text/markdown": [
       "1. 1\n",
       "2. 1\n",
       "3. 1\n",
       "4. 1\n",
       "5. 1\n",
       "6. 2\n",
       "7. 2\n",
       "8. 2\n",
       "9. 2\n",
       "10. 2\n",
       "11. 3\n",
       "12. 3\n",
       "13. 3\n",
       "14. 3\n",
       "15. 3\n",
       "16. 4\n",
       "17. 4\n",
       "18. 4\n",
       "19. 4\n",
       "20. 4\n",
       "21. 5\n",
       "22. 5\n",
       "23. 5\n",
       "24. 5\n",
       "25. 5\n",
       "\n",
       "\n"
      ],
      "text/plain": [
       " [1] 1 1 1 1 1 2 2 2 2 2 3 3 3 3 3 4 4 4 4 4 5 5 5 5 5"
      ]
     },
     "metadata": {},
     "output_type": "display_data"
    }
   ],
   "source": [
    "tienda <- rep(c(1:5),each=5)\n",
    "tienda"
   ]
  },
  {
   "cell_type": "code",
   "execution_count": 6,
   "id": "e7f411cc",
   "metadata": {},
   "outputs": [
    {
     "ename": "ERROR",
     "evalue": "Error: '\\d' is an unrecognized escape in character string starting \"'$\\d\"\n",
     "output_type": "error",
     "traceback": [
      "Error: '\\d' is an unrecognized escape in character string starting \"'$\\d\"\nTraceback:\n"
     ]
    }
   ],
   "source": [
    "altura <- c('$\\alpha$','$\\delta$','$\\epsilon$','$\\beta$','$\\gamma$','$\\delta$','$\\beta$','$\\gamma$','$\\epsilon$','$\\alpha$','$\\gamma$','$\\alpha$','$\\beta$','$\\delta$','$\\epsilon$','$\\epsilon$','$\\gamma$','$\\delta$','$\\alpha$','$\\beta$','$\\beta$','$\\epsilon$','$\\alpha$','$\\gamma$','$\\delta$')"
   ]
  },
  {
   "cell_type": "code",
   "execution_count": 14,
   "id": "4fe37d05",
   "metadata": {},
   "outputs": [
    {
     "data": {
      "text/html": [
       "<style>\n",
       ".list-inline {list-style: none; margin:0; padding: 0}\n",
       ".list-inline>li {display: inline-block}\n",
       ".list-inline>li:not(:last-child)::after {content: \"\\00b7\"; padding: 0 .5ex}\n",
       "</style>\n",
       "<ol class=list-inline><li>'alpha'</li><li>'delta'</li><li>'epsilon'</li><li>'beta'</li><li>'gamma'</li><li>'delta'</li><li>'beta'</li><li>'gamma'</li><li>'epsilon'</li><li>'alpha'</li><li>'gamma'</li><li>'alpha'</li><li>'beta'</li><li>'delta'</li><li>'epsilon'</li><li>'epsilon'</li><li>'gamma'</li><li>'delta'</li><li>'alpha'</li><li>'beta'</li></ol>\n"
      ],
      "text/latex": [
       "\\begin{enumerate*}\n",
       "\\item 'alpha'\n",
       "\\item 'delta'\n",
       "\\item 'epsilon'\n",
       "\\item 'beta'\n",
       "\\item 'gamma'\n",
       "\\item 'delta'\n",
       "\\item 'beta'\n",
       "\\item 'gamma'\n",
       "\\item 'epsilon'\n",
       "\\item 'alpha'\n",
       "\\item 'gamma'\n",
       "\\item 'alpha'\n",
       "\\item 'beta'\n",
       "\\item 'delta'\n",
       "\\item 'epsilon'\n",
       "\\item 'epsilon'\n",
       "\\item 'gamma'\n",
       "\\item 'delta'\n",
       "\\item 'alpha'\n",
       "\\item 'beta'\n",
       "\\end{enumerate*}\n"
      ],
      "text/markdown": [
       "1. 'alpha'\n",
       "2. 'delta'\n",
       "3. 'epsilon'\n",
       "4. 'beta'\n",
       "5. 'gamma'\n",
       "6. 'delta'\n",
       "7. 'beta'\n",
       "8. 'gamma'\n",
       "9. 'epsilon'\n",
       "10. 'alpha'\n",
       "11. 'gamma'\n",
       "12. 'alpha'\n",
       "13. 'beta'\n",
       "14. 'delta'\n",
       "15. 'epsilon'\n",
       "16. 'epsilon'\n",
       "17. 'gamma'\n",
       "18. 'delta'\n",
       "19. 'alpha'\n",
       "20. 'beta'\n",
       "\n",
       "\n"
      ],
      "text/plain": [
       " [1] \"alpha\"   \"delta\"   \"epsilon\" \"beta\"    \"gamma\"   \"delta\"   \"beta\"   \n",
       " [8] \"gamma\"   \"epsilon\" \"alpha\"   \"gamma\"   \"alpha\"   \"beta\"    \"delta\"  \n",
       "[15] \"epsilon\" \"epsilon\" \"gamma\"   \"delta\"   \"alpha\"   \"beta\"   "
      ]
     },
     "metadata": {},
     "output_type": "display_data"
    }
   ],
   "source": [
    "c('alpha','delta','epsilon','beta','gamma','delta','beta','gamma','epsilon','alpha','gamma','alpha','beta','delta','epsilon','epsilon','gamma','delta','alpha','beta')"
   ]
  },
  {
   "cell_type": "markdown",
   "id": "b83808db",
   "metadata": {},
   "source": [
    "Vamos a trabajar con el archivo .csv para que no haya errores, lo de arriba fue sólo para mostrar cómo se hace la base a mano."
   ]
  },
  {
   "cell_type": "code",
   "execution_count": 15,
   "id": "47149d83",
   "metadata": {},
   "outputs": [],
   "source": [
    "datos = read.csv('/home/lorena/Escritorio/Estadistica aplicada y R/Literatura/Cuadro latino/Cuadro grecolatino/base_de_datos.csv')"
   ]
  },
  {
   "cell_type": "markdown",
   "id": "60710d93",
   "metadata": {},
   "source": [
    "Se declaran los factores como categóricos, y definiendo la variable respuesta."
   ]
  },
  {
   "cell_type": "code",
   "execution_count": 25,
   "id": "c7c7f53f",
   "metadata": {},
   "outputs": [],
   "source": [
    "dias <- as.factor(datos$dia)\n",
    "tienda <- as.factor(datos$tienda)\n",
    "altura <- as.factor(datos$altura)\n",
    "trat <- as.factor(datos$trat)\n",
    "y <- datos$y"
   ]
  },
  {
   "cell_type": "markdown",
   "id": "cacc7174",
   "metadata": {},
   "source": [
    "Comprobando que la variable respuesta **y** es numérica:"
   ]
  },
  {
   "cell_type": "code",
   "execution_count": 26,
   "id": "e41a8c77",
   "metadata": {},
   "outputs": [
    {
     "data": {
      "text/html": [
       "TRUE"
      ],
      "text/latex": [
       "TRUE"
      ],
      "text/markdown": [
       "TRUE"
      ],
      "text/plain": [
       "[1] TRUE"
      ]
     },
     "metadata": {},
     "output_type": "display_data"
    }
   ],
   "source": [
    "is.numeric(y)"
   ]
  },
  {
   "cell_type": "markdown",
   "id": "a9a5b27e",
   "metadata": {},
   "source": [
    "## Creando el modelo "
   ]
  },
  {
   "cell_type": "code",
   "execution_count": 27,
   "id": "94a14648",
   "metadata": {},
   "outputs": [],
   "source": [
    "m1 <- lm(y ~ trat+dias+tienda+altura)"
   ]
  },
  {
   "cell_type": "markdown",
   "id": "80a2ee81",
   "metadata": {},
   "source": [
    "##  Análisis de la varianza del modelo"
   ]
  },
  {
   "cell_type": "code",
   "execution_count": 28,
   "id": "ecd25840",
   "metadata": {},
   "outputs": [
    {
     "data": {
      "text/html": [
       "<table class=\"dataframe\">\n",
       "<caption>A anova: 5 × 5</caption>\n",
       "<thead>\n",
       "\t<tr><th></th><th scope=col>Df</th><th scope=col>Sum Sq</th><th scope=col>Mean Sq</th><th scope=col>F value</th><th scope=col>Pr(&gt;F)</th></tr>\n",
       "\t<tr><th></th><th scope=col>&lt;int&gt;</th><th scope=col>&lt;dbl&gt;</th><th scope=col>&lt;dbl&gt;</th><th scope=col>&lt;dbl&gt;</th><th scope=col>&lt;dbl&gt;</th></tr>\n",
       "</thead>\n",
       "<tbody>\n",
       "\t<tr><th scope=row>trat</th><td>4</td><td>115462.16</td><td>28865.54</td><td>31.2147631</td><td>6.256394e-05</td></tr>\n",
       "\t<tr><th scope=row>dias</th><td>4</td><td>  6138.56</td><td> 1534.64</td><td> 1.6595367</td><td>2.510319e-01</td></tr>\n",
       "\t<tr><th scope=row>tienda</th><td>4</td><td>  1544.96</td><td>  386.24</td><td> 0.4176742</td><td>7.919202e-01</td></tr>\n",
       "\t<tr><th scope=row>altura</th><td>4</td><td>  8852.16</td><td> 2213.04</td><td> 2.3931483</td><td>1.365541e-01</td></tr>\n",
       "\t<tr><th scope=row>Residuals</th><td>8</td><td>  7397.92</td><td>  924.74</td><td>        NA</td><td>          NA</td></tr>\n",
       "</tbody>\n",
       "</table>\n"
      ],
      "text/latex": [
       "A anova: 5 × 5\n",
       "\\begin{tabular}{r|lllll}\n",
       "  & Df & Sum Sq & Mean Sq & F value & Pr(>F)\\\\\n",
       "  & <int> & <dbl> & <dbl> & <dbl> & <dbl>\\\\\n",
       "\\hline\n",
       "\ttrat & 4 & 115462.16 & 28865.54 & 31.2147631 & 6.256394e-05\\\\\n",
       "\tdias & 4 &   6138.56 &  1534.64 &  1.6595367 & 2.510319e-01\\\\\n",
       "\ttienda & 4 &   1544.96 &   386.24 &  0.4176742 & 7.919202e-01\\\\\n",
       "\taltura & 4 &   8852.16 &  2213.04 &  2.3931483 & 1.365541e-01\\\\\n",
       "\tResiduals & 8 &   7397.92 &   924.74 &         NA &           NA\\\\\n",
       "\\end{tabular}\n"
      ],
      "text/markdown": [
       "\n",
       "A anova: 5 × 5\n",
       "\n",
       "| <!--/--> | Df &lt;int&gt; | Sum Sq &lt;dbl&gt; | Mean Sq &lt;dbl&gt; | F value &lt;dbl&gt; | Pr(&gt;F) &lt;dbl&gt; |\n",
       "|---|---|---|---|---|---|\n",
       "| trat | 4 | 115462.16 | 28865.54 | 31.2147631 | 6.256394e-05 |\n",
       "| dias | 4 |   6138.56 |  1534.64 |  1.6595367 | 2.510319e-01 |\n",
       "| tienda | 4 |   1544.96 |   386.24 |  0.4176742 | 7.919202e-01 |\n",
       "| altura | 4 |   8852.16 |  2213.04 |  2.3931483 | 1.365541e-01 |\n",
       "| Residuals | 8 |   7397.92 |   924.74 |         NA |           NA |\n",
       "\n"
      ],
      "text/plain": [
       "          Df Sum Sq    Mean Sq  F value    Pr(>F)      \n",
       "trat      4  115462.16 28865.54 31.2147631 6.256394e-05\n",
       "dias      4    6138.56  1534.64  1.6595367 2.510319e-01\n",
       "tienda    4    1544.96   386.24  0.4176742 7.919202e-01\n",
       "altura    4    8852.16  2213.04  2.3931483 1.365541e-01\n",
       "Residuals 8    7397.92   924.74         NA           NA"
      ]
     },
     "metadata": {},
     "output_type": "display_data"
    }
   ],
   "source": [
    "anova(m1)"
   ]
  },
  {
   "cell_type": "markdown",
   "id": "e4e20124",
   "metadata": {},
   "source": [
    "Aquí se observa que el valor de $p$ es menor a 0.05 sólo para el tratamiento, por lo que el resto de los factores: día, tienda y altura, no son estadísticamente significativos."
   ]
  },
  {
   "cell_type": "markdown",
   "id": "953c91cc",
   "metadata": {},
   "source": [
    "## Comparaciones múltiples con prueba de Tukey"
   ]
  },
  {
   "cell_type": "code",
   "execution_count": 30,
   "id": "da14b138",
   "metadata": {},
   "outputs": [
    {
     "data": {
      "text/plain": [
       "  Tukey multiple comparisons of means\n",
       "    95% family-wise confidence level\n",
       "\n",
       "Fit: aov(formula = y ~ trat + dias + tienda + altura)\n",
       "\n",
       "$trat\n",
       "     diff         lwr      upr     p adj\n",
       "B-A 109.4   42.955898 175.8441 0.0030451\n",
       "C-A 145.0   78.555898 211.4441 0.0004580\n",
       "D-A  59.6   -6.844102 126.0441 0.0813035\n",
       "E-A 196.8  130.355898 263.2441 0.0000502\n",
       "C-B  35.6  -30.844102 102.0441 0.4101358\n",
       "D-B -49.8 -116.244102  16.6441 0.1624912\n",
       "E-B  87.4   20.955898 153.8441 0.0119182\n",
       "D-C -85.4 -151.844102 -18.9559 0.0135959\n",
       "E-C  51.8  -14.644102 118.2441 0.1412942\n",
       "E-D 137.2   70.755898 203.6441 0.0006730\n"
      ]
     },
     "metadata": {},
     "output_type": "display_data"
    }
   ],
   "source": [
    "TukeyHSD(aov(y ~ trat+dias+tienda+altura),'trat')"
   ]
  },
  {
   "cell_type": "code",
   "execution_count": 31,
   "id": "ffad4d48",
   "metadata": {},
   "outputs": [
    {
     "data": {
      "image/png": "[encoded data removed]",
      "text/plain": [
       "Plot with title “95% family-wise confidence level\n",
       "”"
      ]
     },
     "metadata": {
      "image/png": {
       "height": 420,
       "width": 420
      }
     },
     "output_type": "display_data"
    }
   ],
   "source": [
    "plot(TukeyHSD(aov(y ~ trat+dias+tienda+altura),'trat'))"
   ]
  },
  {
   "cell_type": "markdown",
   "id": "a68e5fd8",
   "metadata": {},
   "source": [
    "## Comparación con intervalos de confianza"
   ]
  },
  {
   "cell_type": "code",
   "execution_count": 32,
   "id": "e1f9fa10",
   "metadata": {},
   "outputs": [
    {
     "data": {
      "text/html": [
       "<style>\n",
       ".dl-inline {width: auto; margin:0; padding: 0}\n",
       ".dl-inline>dt, .dl-inline>dd {float: none; width: auto; display: inline-block}\n",
       ".dl-inline>dt::after {content: \":\\0020\"; padding-right: .5ex}\n",
       ".dl-inline>dt:not(:first-of-type) {padding-left: .5ex}\n",
       "</style><dl class=dl-inline><dt>A</dt><dd>70.2</dd><dt>B</dt><dd>179.6</dd><dt>C</dt><dd>215.2</dd><dt>D</dt><dd>129.8</dd><dt>E</dt><dd>267</dd></dl>\n"
      ],
      "text/latex": [
       "\\begin{description*}\n",
       "\\item[A] 70.2\n",
       "\\item[B] 179.6\n",
       "\\item[C] 215.2\n",
       "\\item[D] 129.8\n",
       "\\item[E] 267\n",
       "\\end{description*}\n"
      ],
      "text/markdown": [
       "A\n",
       ":   70.2B\n",
       ":   179.6C\n",
       ":   215.2D\n",
       ":   129.8E\n",
       ":   267\n",
       "\n"
      ],
      "text/plain": [
       "    A     B     C     D     E \n",
       " 70.2 179.6 215.2 129.8 267.0 "
      ]
     },
     "metadata": {},
     "output_type": "display_data"
    }
   ],
   "source": [
    "medias <- tapply(y,trat,mean)\n",
    "medias"
   ]
  },
  {
   "cell_type": "code",
   "execution_count": 33,
   "id": "3ea2e605",
   "metadata": {},
   "outputs": [
    {
     "data": {
      "text/html": [
       "<style>\n",
       ".dl-inline {width: auto; margin:0; padding: 0}\n",
       ".dl-inline>dt, .dl-inline>dd {float: none; width: auto; display: inline-block}\n",
       ".dl-inline>dt::after {content: \":\\0020\"; padding-right: .5ex}\n",
       ".dl-inline>dt:not(:first-of-type) {padding-left: .5ex}\n",
       "</style><dl class=dl-inline><dt>A</dt><dd>70.2</dd><dt>D</dt><dd>129.8</dd><dt>B</dt><dd>179.6</dd><dt>C</dt><dd>215.2</dd><dt>E</dt><dd>267</dd></dl>\n"
      ],
      "text/latex": [
       "\\begin{description*}\n",
       "\\item[A] 70.2\n",
       "\\item[D] 129.8\n",
       "\\item[B] 179.6\n",
       "\\item[C] 215.2\n",
       "\\item[E] 267\n",
       "\\end{description*}\n"
      ],
      "text/markdown": [
       "A\n",
       ":   70.2D\n",
       ":   129.8B\n",
       ":   179.6C\n",
       ":   215.2E\n",
       ":   267\n",
       "\n"
      ],
      "text/plain": [
       "    A     D     B     C     E \n",
       " 70.2 129.8 179.6 215.2 267.0 "
      ]
     },
     "metadata": {},
     "output_type": "display_data"
    }
   ],
   "source": [
    "ordenando <- sort(medias)\n",
    "ordenando"
   ]
  },
  {
   "cell_type": "code",
   "execution_count": 34,
   "id": "781437bf",
   "metadata": {},
   "outputs": [
    {
     "data": {
      "text/html": [
       "<style>\n",
       ".dl-inline {width: auto; margin:0; padding: 0}\n",
       ".dl-inline>dt, .dl-inline>dd {float: none; width: auto; display: inline-block}\n",
       ".dl-inline>dt::after {content: \":\\0020\"; padding-right: .5ex}\n",
       ".dl-inline>dt:not(:first-of-type) {padding-left: .5ex}\n",
       "</style><dl class=dl-inline><dt>A</dt><dd>70.2</dd><dt>B</dt><dd>179.6</dd><dt>C</dt><dd>215.2</dd><dt>D</dt><dd>129.8</dd><dt>E</dt><dd>267</dd></dl>\n"
      ],
      "text/latex": [
       "\\begin{description*}\n",
       "\\item[A] 70.2\n",
       "\\item[B] 179.6\n",
       "\\item[C] 215.2\n",
       "\\item[D] 129.8\n",
       "\\item[E] 267\n",
       "\\end{description*}\n"
      ],
      "text/markdown": [
       "A\n",
       ":   70.2B\n",
       ":   179.6C\n",
       ":   215.2D\n",
       ":   129.8E\n",
       ":   267\n",
       "\n"
      ],
      "text/plain": [
       "    A     B     C     D     E \n",
       " 70.2 179.6 215.2 129.8 267.0 "
      ]
     },
     "metadata": {},
     "output_type": "display_data"
    }
   ],
   "source": [
    "ybar <- tapply(y,trat,mean)\n",
    "ybar"
   ]
  },
  {
   "cell_type": "code",
   "execution_count": 35,
   "id": "0b1eb5f0",
   "metadata": {},
   "outputs": [
    {
     "data": {
      "text/html": [
       "<style>\n",
       ".dl-inline {width: auto; margin:0; padding: 0}\n",
       ".dl-inline>dt, .dl-inline>dd {float: none; width: auto; display: inline-block}\n",
       ".dl-inline>dt::after {content: \":\\0020\"; padding-right: .5ex}\n",
       ".dl-inline>dt:not(:first-of-type) {padding-left: .5ex}\n",
       "</style><dl class=dl-inline><dt>A</dt><dd>5</dd><dt>B</dt><dd>5</dd><dt>C</dt><dd>5</dd><dt>D</dt><dd>5</dd><dt>E</dt><dd>5</dd></dl>\n"
      ],
      "text/latex": [
       "\\begin{description*}\n",
       "\\item[A] 5\n",
       "\\item[B] 5\n",
       "\\item[C] 5\n",
       "\\item[D] 5\n",
       "\\item[E] 5\n",
       "\\end{description*}\n"
      ],
      "text/markdown": [
       "A\n",
       ":   5B\n",
       ":   5C\n",
       ":   5D\n",
       ":   5E\n",
       ":   5\n",
       "\n"
      ],
      "text/plain": [
       "A B C D E \n",
       "5 5 5 5 5 "
      ]
     },
     "metadata": {},
     "output_type": "display_data"
    }
   ],
   "source": [
    "n <- tapply(y,trat,length)\n",
    "n"
   ]
  },
  {
   "cell_type": "markdown",
   "id": "f8acdec0",
   "metadata": {},
   "source": [
    "### Cuadrados medios del error"
   ]
  },
  {
   "cell_type": "code",
   "execution_count": 36,
   "id": "5921ca6c",
   "metadata": {},
   "outputs": [
    {
     "data": {
      "text/html": [
       "924.74"
      ],
      "text/latex": [
       "924.74"
      ],
      "text/markdown": [
       "924.74"
      ],
      "text/plain": [
       "[1] 924.74"
      ]
     },
     "metadata": {},
     "output_type": "display_data"
    }
   ],
   "source": [
    "CME <- anova(m1)[\"Residuals\", \"Mean Sq\"]\n",
    "CME"
   ]
  },
  {
   "cell_type": "markdown",
   "id": "88345058",
   "metadata": {},
   "source": [
    "### Error estándar de las medias "
   ]
  },
  {
   "cell_type": "code",
   "execution_count": 37,
   "id": "eb0b040c",
   "metadata": {},
   "outputs": [
    {
     "data": {
      "text/html": [
       "<style>\n",
       ".dl-inline {width: auto; margin:0; padding: 0}\n",
       ".dl-inline>dt, .dl-inline>dd {float: none; width: auto; display: inline-block}\n",
       ".dl-inline>dt::after {content: \":\\0020\"; padding-right: .5ex}\n",
       ".dl-inline>dt:not(:first-of-type) {padding-left: .5ex}\n",
       "</style><dl class=dl-inline><dt>A</dt><dd>13.5995588163734</dd><dt>B</dt><dd>13.5995588163734</dd><dt>C</dt><dd>13.5995588163734</dd><dt>D</dt><dd>13.5995588163734</dd><dt>E</dt><dd>13.5995588163734</dd></dl>\n"
      ],
      "text/latex": [
       "\\begin{description*}\n",
       "\\item[A] 13.5995588163734\n",
       "\\item[B] 13.5995588163734\n",
       "\\item[C] 13.5995588163734\n",
       "\\item[D] 13.5995588163734\n",
       "\\item[E] 13.5995588163734\n",
       "\\end{description*}\n"
      ],
      "text/markdown": [
       "A\n",
       ":   13.5995588163734B\n",
       ":   13.5995588163734C\n",
       ":   13.5995588163734D\n",
       ":   13.5995588163734E\n",
       ":   13.5995588163734\n",
       "\n"
      ],
      "text/plain": [
       "       A        B        C        D        E \n",
       "13.59956 13.59956 13.59956 13.59956 13.59956 "
      ]
     },
     "metadata": {},
     "output_type": "display_data"
    }
   ],
   "source": [
    "sem <- sqrt(CME/n)\n",
    "sem"
   ]
  },
  {
   "cell_type": "markdown",
   "id": "22c18967",
   "metadata": {},
   "source": [
    "### Calculando el cuantil "
   ]
  },
  {
   "cell_type": "code",
   "execution_count": 38,
   "id": "a9ac989a",
   "metadata": {},
   "outputs": [
    {
     "data": {
      "text/html": [
       "8"
      ],
      "text/latex": [
       "8"
      ],
      "text/markdown": [
       "8"
      ],
      "text/plain": [
       "[1] 8"
      ]
     },
     "metadata": {},
     "output_type": "display_data"
    }
   ],
   "source": [
    "gle <- anova(m1)[\"Residuals\", \"Df\"]\n",
    "gle"
   ]
  },
  {
   "cell_type": "code",
   "execution_count": 39,
   "id": "5052dee7",
   "metadata": {},
   "outputs": [
    {
     "data": {
      "text/html": [
       "2.30600413520417"
      ],
      "text/latex": [
       "2.30600413520417"
      ],
      "text/markdown": [
       "2.30600413520417"
      ],
      "text/plain": [
       "[1] 2.306004"
      ]
     },
     "metadata": {},
     "output_type": "display_data"
    }
   ],
   "source": [
    "cuantil <- qt(0.975,gle)\n",
    "cuantil"
   ]
  },
  {
   "cell_type": "markdown",
   "id": "c44b85d5",
   "metadata": {},
   "source": [
    "### Gráfica "
   ]
  },
  {
   "cell_type": "code",
   "execution_count": 41,
   "id": "88dfcfef",
   "metadata": {},
   "outputs": [
    {
     "data": {
      "image/png": "[encoded data removed]",
      "text/plain": [
       "plot without title"
      ]
     },
     "metadata": {
      "image/png": {
       "height": 420,
       "width": 420
      }
     },
     "output_type": "display_data"
    }
   ],
   "source": [
    "yaxis = c(min(medias-cuantil*sem),max(medias+cuantil*sem))\n",
    "plot.new()\n",
    "stripchart(y~trat,pch=16,vert=T,ylim=yaxis)\n",
    "arrows(1:5,medias+cuantil*sem,1:5,medias-cuantil*sem,angle=90,code=3,length=.1)\n",
    "lines(1:5,medias,pch=4,type=\"b\",cex=2)"
   ]
  },
  {
   "cell_type": "markdown",
   "id": "68391969",
   "metadata": {},
   "source": [
    "## Diagnóstico del modelo "
   ]
  },
  {
   "cell_type": "markdown",
   "id": "1286a9dd",
   "metadata": {},
   "source": [
    "### Análisis de residuos "
   ]
  },
  {
   "cell_type": "code",
   "execution_count": 42,
   "id": "5ae40684",
   "metadata": {},
   "outputs": [
    {
     "data": {
      "text/html": [
       "<style>\n",
       ".dl-inline {width: auto; margin:0; padding: 0}\n",
       ".dl-inline>dt, .dl-inline>dd {float: none; width: auto; display: inline-block}\n",
       ".dl-inline>dt::after {content: \":\\0020\"; padding-right: .5ex}\n",
       ".dl-inline>dt:not(:first-of-type) {padding-left: .5ex}\n",
       "</style><dl class=dl-inline><dt>1</dt><dd>-17.92</dd><dt>2</dt><dd>11.88</dd><dt>3</dt><dd>2.28000000000004</dd><dt>4</dt><dd>2.68</dd><dt>5</dt><dd>1.07999999999998</dd><dt>6</dt><dd>-2.52</dd><dt>7</dt><dd>17.08</dd><dt>8</dt><dd>26.68</dd><dt>9</dt><dd>-21.32</dd><dt>10</dt><dd>-19.92</dd><dt>11</dt><dd>-12.12</dd><dt>12</dt><dd>24.88</dd><dt>13</dt><dd>-33.92</dd><dt>14</dt><dd>5.88</dd><dt>15</dt><dd>15.28</dd><dt>16</dt><dd>28.48</dd><dt>17</dt><dd>-29.12</dd><dt>18</dt><dd>-8.72</dd><dt>19</dt><dd>-0.720000000000015</dd><dt>20</dt><dd>10.08</dd><dt>21</dt><dd>4.08</dd><dt>22</dt><dd>-24.72</dd><dt>23</dt><dd>13.68</dd><dt>24</dt><dd>13.48</dd><dt>25</dt><dd>-6.52</dd></dl>\n"
      ],
      "text/latex": [
       "\\begin{description*}\n",
       "\\item[1] -17.92\n",
       "\\item[2] 11.88\n",
       "\\item[3] 2.28000000000004\n",
       "\\item[4] 2.68\n",
       "\\item[5] 1.07999999999998\n",
       "\\item[6] -2.52\n",
       "\\item[7] 17.08\n",
       "\\item[8] 26.68\n",
       "\\item[9] -21.32\n",
       "\\item[10] -19.92\n",
       "\\item[11] -12.12\n",
       "\\item[12] 24.88\n",
       "\\item[13] -33.92\n",
       "\\item[14] 5.88\n",
       "\\item[15] 15.28\n",
       "\\item[16] 28.48\n",
       "\\item[17] -29.12\n",
       "\\item[18] -8.72\n",
       "\\item[19] -0.720000000000015\n",
       "\\item[20] 10.08\n",
       "\\item[21] 4.08\n",
       "\\item[22] -24.72\n",
       "\\item[23] 13.68\n",
       "\\item[24] 13.48\n",
       "\\item[25] -6.52\n",
       "\\end{description*}\n"
      ],
      "text/markdown": [
       "1\n",
       ":   -17.922\n",
       ":   11.883\n",
       ":   2.280000000000044\n",
       ":   2.685\n",
       ":   1.079999999999986\n",
       ":   -2.527\n",
       ":   17.088\n",
       ":   26.689\n",
       ":   -21.3210\n",
       ":   -19.9211\n",
       ":   -12.1212\n",
       ":   24.8813\n",
       ":   -33.9214\n",
       ":   5.8815\n",
       ":   15.2816\n",
       ":   28.4817\n",
       ":   -29.1218\n",
       ":   -8.7219\n",
       ":   -0.72000000000001520\n",
       ":   10.0821\n",
       ":   4.0822\n",
       ":   -24.7223\n",
       ":   13.6824\n",
       ":   13.4825\n",
       ":   -6.52\n",
       "\n"
      ],
      "text/plain": [
       "     1      2      3      4      5      6      7      8      9     10     11 \n",
       "-17.92  11.88   2.28   2.68   1.08  -2.52  17.08  26.68 -21.32 -19.92 -12.12 \n",
       "    12     13     14     15     16     17     18     19     20     21     22 \n",
       " 24.88 -33.92   5.88  15.28  28.48 -29.12  -8.72  -0.72  10.08   4.08 -24.72 \n",
       "    23     24     25 \n",
       " 13.68  13.48  -6.52 "
      ]
     },
     "metadata": {},
     "output_type": "display_data"
    },
    {
     "data": {
      "text/html": [
       "<style>\n",
       ".dl-inline {width: auto; margin:0; padding: 0}\n",
       ".dl-inline>dt, .dl-inline>dd {float: none; width: auto; display: inline-block}\n",
       ".dl-inline>dt::after {content: \":\\0020\"; padding-right: .5ex}\n",
       ".dl-inline>dt:not(:first-of-type) {padding-left: .5ex}\n",
       "</style><dl class=dl-inline><dt>1</dt><dd>255.92</dd><dt>2</dt><dd>137.12</dd><dt>3</dt><dd>219.72</dd><dt>4</dt><dd>184.32</dd><dt>5</dt><dd>63.92</dd><dt>6</dt><dd>230.52</dd><dt>7</dt><dd>202.92</dd><dt>8</dt><dd>268.32</dd><dt>9</dt><dd>87.32</dd><dt>10</dt><dd>137.92</dd><dt>11</dt><dd>170.12</dd><dt>12</dt><dd>67.12</dd><dt>13</dt><dd>137.92</dd><dt>14</dt><dd>236.12</dd><dt>15</dt><dd>263.72</dd><dt>16</dt><dd>159.52</dd><dt>17</dt><dd>198.12</dd><dt>18</dt><dd>62.72</dd><dt>19</dt><dd>122.72</dd><dt>20</dt><dd>267.92</dd><dt>21</dt><dd>69.92</dd><dt>22</dt><dd>306.72</dd><dt>23</dt><dd>199.32</dd><dt>24</dt><dd>76.52</dd><dt>25</dt><dd>182.52</dd></dl>\n"
      ],
      "text/latex": [
       "\\begin{description*}\n",
       "\\item[1] 255.92\n",
       "\\item[2] 137.12\n",
       "\\item[3] 219.72\n",
       "\\item[4] 184.32\n",
       "\\item[5] 63.92\n",
       "\\item[6] 230.52\n",
       "\\item[7] 202.92\n",
       "\\item[8] 268.32\n",
       "\\item[9] 87.32\n",
       "\\item[10] 137.92\n",
       "\\item[11] 170.12\n",
       "\\item[12] 67.12\n",
       "\\item[13] 137.92\n",
       "\\item[14] 236.12\n",
       "\\item[15] 263.72\n",
       "\\item[16] 159.52\n",
       "\\item[17] 198.12\n",
       "\\item[18] 62.72\n",
       "\\item[19] 122.72\n",
       "\\item[20] 267.92\n",
       "\\item[21] 69.92\n",
       "\\item[22] 306.72\n",
       "\\item[23] 199.32\n",
       "\\item[24] 76.52\n",
       "\\item[25] 182.52\n",
       "\\end{description*}\n"
      ],
      "text/markdown": [
       "1\n",
       ":   255.922\n",
       ":   137.123\n",
       ":   219.724\n",
       ":   184.325\n",
       ":   63.926\n",
       ":   230.527\n",
       ":   202.928\n",
       ":   268.329\n",
       ":   87.3210\n",
       ":   137.9211\n",
       ":   170.1212\n",
       ":   67.1213\n",
       ":   137.9214\n",
       ":   236.1215\n",
       ":   263.7216\n",
       ":   159.5217\n",
       ":   198.1218\n",
       ":   62.7219\n",
       ":   122.7220\n",
       ":   267.9221\n",
       ":   69.9222\n",
       ":   306.7223\n",
       ":   199.3224\n",
       ":   76.5225\n",
       ":   182.52\n",
       "\n"
      ],
      "text/plain": [
       "     1      2      3      4      5      6      7      8      9     10     11 \n",
       "255.92 137.12 219.72 184.32  63.92 230.52 202.92 268.32  87.32 137.92 170.12 \n",
       "    12     13     14     15     16     17     18     19     20     21     22 \n",
       " 67.12 137.92 236.12 263.72 159.52 198.12  62.72 122.72 267.92  69.92 306.72 \n",
       "    23     24     25 \n",
       "199.32  76.52 182.52 "
      ]
     },
     "metadata": {},
     "output_type": "display_data"
    }
   ],
   "source": [
    "residuos<-m1$res\n",
    "residuos\n",
    "estimados<-m1$fitt\n",
    "estimados"
   ]
  },
  {
   "cell_type": "markdown",
   "id": "2be408d7",
   "metadata": {},
   "source": [
    "## Probando normalidad de los errores"
   ]
  },
  {
   "cell_type": "markdown",
   "id": "0a6119fe",
   "metadata": {},
   "source": [
    "### Histograma de los residuos "
   ]
  },
  {
   "cell_type": "code",
   "execution_count": 43,
   "id": "afdd3b2f",
   "metadata": {},
   "outputs": [
    {
     "data": {
      "image/png": "[encoded data removed]",
      "text/plain": [
       "Plot with title “Histogram of residuos”"
      ]
     },
     "metadata": {
      "image/png": {
       "height": 420,
       "width": 420
      }
     },
     "output_type": "display_data"
    }
   ],
   "source": [
    "hist(residuos, prob=T, col=\"gray\")\n",
    "x=residuos\n",
    "m<-mean(x)\n",
    "s<-sd(x)\n",
    "curve(dnorm(x,mean=m,sd=s), col=\"blue\", add=TRUE)"
   ]
  },
  {
   "cell_type": "markdown",
   "id": "7dd8da50",
   "metadata": {},
   "source": [
    "## Diagrama de caja "
   ]
  },
  {
   "cell_type": "code",
   "execution_count": 44,
   "id": "95e46c0c",
   "metadata": {},
   "outputs": [
    {
     "data": {
      "image/png": "[encoded data removed]",
      "text/plain": [
       "plot without title"
      ]
     },
     "metadata": {
      "image/png": {
       "height": 420,
       "width": 420
      }
     },
     "output_type": "display_data"
    }
   ],
   "source": [
    "boxplot(residuos)"
   ]
  },
  {
   "cell_type": "markdown",
   "id": "d058dcc0",
   "metadata": {},
   "source": [
    "## Gráfica normal "
   ]
  },
  {
   "cell_type": "code",
   "execution_count": 45,
   "id": "14586dc6",
   "metadata": {},
   "outputs": [
    {
     "data": {
      "image/png": "[encoded data removed]",
      "text/plain": [
       "Plot with title “Normal Q-Q Plot”"
      ]
     },
     "metadata": {
      "image/png": {
       "height": 420,
       "width": 420
      }
     },
     "output_type": "display_data"
    }
   ],
   "source": [
    "qqnorm(residuos)\n",
    "qqline(residuos)"
   ]
  },
  {
   "cell_type": "markdown",
   "id": "56ddf768",
   "metadata": {},
   "source": [
    "## Prueba de normalidad "
   ]
  },
  {
   "cell_type": "markdown",
   "id": "31b7df1a",
   "metadata": {},
   "source": [
    "* Los datos(residuos) se ajustan a una distribución normal  vs \n",
    "* Ha: Los datos(residuos) no se ajustan a una distribución normal."
   ]
  },
  {
   "cell_type": "code",
   "execution_count": 46,
   "id": "917f3934",
   "metadata": {},
   "outputs": [
    {
     "data": {
      "text/plain": [
       "\n",
       "\tShapiro-Wilk normality test\n",
       "\n",
       "data:  residuos\n",
       "W = 0.9686, p-value = 0.6098\n"
      ]
     },
     "metadata": {},
     "output_type": "display_data"
    }
   ],
   "source": [
    "shapiro.test(residuos)"
   ]
  },
  {
   "cell_type": "markdown",
   "id": "4c993512",
   "metadata": {},
   "source": [
    "El valor de $p$ es mayor a 0.05, eso quiere decir que no se rechaza la hipótesis nula, es decir, los residuos se ajustan a una distribución normal."
   ]
  },
  {
   "cell_type": "markdown",
   "id": "7465b9a7",
   "metadata": {},
   "source": [
    "Probando la independencia de los errores:"
   ]
  },
  {
   "cell_type": "code",
   "execution_count": 47,
   "id": "c7dbd6a6",
   "metadata": {},
   "outputs": [
    {
     "data": {
      "image/png": "[encoded data removed]",
      "text/plain": [
       "plot without title"
      ]
     },
     "metadata": {
      "image/png": {
       "height": 420,
       "width": 420
      }
     },
     "output_type": "display_data"
    }
   ],
   "source": [
    "plot(residuos)"
   ]
  },
  {
   "cell_type": "markdown",
   "id": "315d6a30",
   "metadata": {},
   "source": [
    "## Probando la autocorrelación de los datos "
   ]
  },
  {
   "cell_type": "code",
   "execution_count": null,
   "id": "8225d746",
   "metadata": {},
   "outputs": [],
   "source": [
    "library(tseries)"
   ]
  },
  {
   "cell_type": "markdown",
   "id": "ad5bc82d",
   "metadata": {},
   "source": [
    "* La prueba de rachas se utiliza para probar autocorrelación de datos.\n",
    "* Prueba que el signo de los datos es aleatorio:\n",
    "    * Ho: No hay correlacion vs Ha: Sí hay correlación"
   ]
  },
  {
   "cell_type": "code",
   "execution_count": 49,
   "id": "1ca85187",
   "metadata": {},
   "outputs": [
    {
     "data": {
      "text/plain": [
       "\n",
       "\tRuns Test\n",
       "\n",
       "data:  as.factor(m1$residual < 0)\n",
       "Standard Normal = -0.13275, p-value = 0.8944\n",
       "alternative hypothesis: two.sided\n"
      ]
     },
     "metadata": {},
     "output_type": "display_data"
    }
   ],
   "source": [
    "runs.test(as.factor(m1$residual<0))"
   ]
  },
  {
   "cell_type": "markdown",
   "id": "fb4bae5f",
   "metadata": {},
   "source": [
    "Dado el valor de $p$, se observa que no se rechaza la hipótesis nula, por lo que no hay correlación de los datos."
   ]
  },
  {
   "cell_type": "markdown",
   "id": "5697ad00",
   "metadata": {},
   "source": [
    "## Probando la homogeneidad de la varianza: "
   ]
  },
  {
   "cell_type": "markdown",
   "id": "c64139fc",
   "metadata": {},
   "source": [
    "### Gráfica de residuos vs estimados"
   ]
  },
  {
   "cell_type": "code",
   "execution_count": 50,
   "id": "bd9af964",
   "metadata": {},
   "outputs": [
    {
     "data": {
      "image/png": "[encoded data removed]",
      "text/plain": [
       "Plot with title “Gráfica de residuos vs estimados”"
      ]
     },
     "metadata": {
      "image/png": {
       "height": 420,
       "width": 420
      }
     },
     "output_type": "display_data"
    }
   ],
   "source": [
    "plot(estimados,residuos,xlab=\"Estimados\",ylab=\"Residuos\",main=\"Gráfica de residuos vs estimados\")"
   ]
  },
  {
   "cell_type": "markdown",
   "id": "45e39ffa",
   "metadata": {},
   "source": [
    "## Prueba de homogeneidad de varianza, (homocedasticidad) "
   ]
  },
  {
   "cell_type": "markdown",
   "id": "f86f8b0e",
   "metadata": {},
   "source": [
    "* Ho: las varianzas de los tratamientos son homogéneas vs \n",
    "* Ha: las varianzas de los trat. no son Homogéneas."
   ]
  },
  {
   "cell_type": "code",
   "execution_count": 51,
   "id": "483892ba",
   "metadata": {},
   "outputs": [
    {
     "data": {
      "text/plain": [
       "\n",
       "\tBartlett test of homogeneity of variances\n",
       "\n",
       "data:  residuos and trat\n",
       "Bartlett's K-squared = 2.59, df = 4, p-value = 0.6286\n"
      ]
     },
     "metadata": {},
     "output_type": "display_data"
    }
   ],
   "source": [
    "bartlett.test(residuos,trat)"
   ]
  },
  {
   "cell_type": "markdown",
   "id": "76cd6c6a",
   "metadata": {},
   "source": [
    "No se rechaza la hipótesis nula, por lo que las varianzas de los residuos son homogéneas."
   ]
  },
  {
   "cell_type": "code",
   "execution_count": null,
   "id": "d6bca4f2",
   "metadata": {},
   "outputs": [],
   "source": [
    "library(agricolae)\n",
    "library(foreign)\n",
    "library(multcomp)\n",
    "library(LSD)"
   ]
  },
  {
   "cell_type": "markdown",
   "id": "f3b1ed74",
   "metadata": {},
   "source": [
    "### Prueba de Duncan"
   ]
  },
  {
   "cell_type": "code",
   "execution_count": 54,
   "id": "80a992bb",
   "metadata": {},
   "outputs": [],
   "source": [
    "model<-aov(y ~ trat+dias+tienda+altura)\n",
    "out <- duncan.test(model,\"trat\",main=\"Metodos de ensamblado\")"
   ]
  },
  {
   "cell_type": "code",
   "execution_count": 55,
   "id": "968193b1",
   "metadata": {},
   "outputs": [
    {
     "name": "stdout",
     "output_type": "stream",
     "text": [
      "\n",
      "Study: model ~ \"trat\"\n",
      "\n",
      "Duncan's new multiple range test\n",
      "for y \n",
      "\n",
      "Mean Square Error:  924.74 \n",
      "\n",
      "trat,  means\n",
      "\n",
      "      y      std r Min Max\n",
      "A  70.2 14.11382 5  54  92\n",
      "B 179.6 42.50647 5 122 222\n",
      "C 215.2 42.33438 5 169 279\n",
      "D 129.8 39.19439 5  90 188\n",
      "E 267.0 25.47548 5 238 295\n",
      "\n",
      "Alpha: 0.05 ; DF Error: 8 \n",
      "\n",
      "Critical Range\n",
      "       2        3        4        5 \n",
      "44.35064 46.21756 47.26106 47.88668 \n",
      "\n",
      "Means with the same letter are not significantly different.\n",
      "\n",
      "      y groups\n",
      "E 267.0      a\n",
      "C 215.2      b\n",
      "B 179.6      b\n",
      "D 129.8      c\n",
      "A  70.2      d\n"
     ]
    }
   ],
   "source": [
    "duncan.test(model,\"trat\",alpha=0.05,console=TRUE)"
   ]
  },
  {
   "cell_type": "markdown",
   "id": "f60f9d95",
   "metadata": {},
   "source": [
    "Aquí se muestra los tratamientos C y B pertenecen al mismo grupo."
   ]
  },
  {
   "cell_type": "markdown",
   "id": "d2c9f832",
   "metadata": {},
   "source": [
    "### Prueba se Scheffe "
   ]
  },
  {
   "cell_type": "code",
   "execution_count": 57,
   "id": "9c0bf377",
   "metadata": {},
   "outputs": [
    {
     "name": "stdout",
     "output_type": "stream",
     "text": [
      "\n",
      "Study: metodos\n",
      "\n",
      "Scheffe Test for y \n",
      "\n",
      "Mean Square Error  : 924.74 \n",
      "\n",
      "trat,  means\n",
      "\n",
      "      y      std r Min Max\n",
      "A  70.2 14.11382 5  54  92\n",
      "B 179.6 42.50647 5 122 222\n",
      "C 215.2 42.33438 5 169 279\n",
      "D 129.8 39.19439 5  90 188\n",
      "E 267.0 25.47548 5 238 295\n",
      "\n",
      "Alpha: 0.05 ; DF Error: 8 \n",
      "Critical Value of F: 3.837853 \n",
      "\n",
      "Minimum Significant Difference: 75.35533 \n",
      "\n",
      "Means with the same letter are not significantly different.\n",
      "\n",
      "      y groups\n",
      "E 267.0      a\n",
      "C 215.2     ab\n",
      "B 179.6     bc\n",
      "D 129.8     cd\n",
      "A  70.2      d\n"
     ]
    }
   ],
   "source": [
    "comparison <- scheffe.test(model,\"trat\", group=TRUE,console=TRUE,main=\"metodos\")"
   ]
  },
  {
   "cell_type": "markdown",
   "id": "61c7c1e2",
   "metadata": {},
   "source": [
    "Con este método, el tratamiento E y C pertenecen al mismo grupo, el C y B pertenecen a otro, B y D pertencen a un grupo más, y el tratamiento A está en un grupo solo."
   ]
  },
  {
   "cell_type": "markdown",
   "id": "c7607c1a",
   "metadata": {},
   "source": [
    "**En conclusión**: todos los supuestos del modelo se cumplen. Además, el día, la tienda y la altura no fueron significativos. Sin embargo, el tipo de envoltura sí afecta a la ventas, las que más venden son la E y C, y la de que menos venden son las A y D, por lo que es mejor retirar esas dos últimas envolturas de las tiendas."
   ]
  },
  {
   "cell_type": "code",
   "execution_count": null,
   "id": "c2959842",
   "metadata": {},
   "outputs": [],
   "source": []
  }
 ],
 "metadata": {
  "kernelspec": {
   "display_name": "R",
   "language": "R",
   "name": "ir"
  },
  "language_info": {
   "codemirror_mode": "r",
   "file_extension": ".r",
   "mimetype": "text/x-r-source",
   "name": "R",
   "pygments_lexer": "r",
   "version": "4.1.1"
  }
 },
 "nbformat": 4,
 "nbformat_minor": 5
}
