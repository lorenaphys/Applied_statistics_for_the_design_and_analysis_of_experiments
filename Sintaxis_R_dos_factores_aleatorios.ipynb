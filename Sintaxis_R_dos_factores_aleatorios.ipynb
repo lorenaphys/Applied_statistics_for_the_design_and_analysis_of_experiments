{
 "cells": [
  {
   "cell_type": "markdown",
   "id": "0e651f6c",
   "metadata": {},
   "source": [
    "Definimos los factores, en este caso, los niveles de las máquinas se repiten dos veces."
   ]
  },
  {
   "cell_type": "code",
   "execution_count": 1,
   "id": "b6cc20c5",
   "metadata": {},
   "outputs": [],
   "source": [
    "#Para 2 factores aleatorios\n",
    "dia <- rep(c(1,2,3,4), each=8)\n",
    "maquina <- rep(rep(c(1,2,3,4),each=2),4)"
   ]
  },
  {
   "cell_type": "markdown",
   "id": "9bc39d8d",
   "metadata": {},
   "source": [
    "Declaramos a los factores como categóricos:"
   ]
  },
  {
   "cell_type": "code",
   "execution_count": 3,
   "id": "07a31284",
   "metadata": {},
   "outputs": [],
   "source": [
    "dia <- as.factor(dia)\n",
    "maquina <- as.factor(maquina)"
   ]
  },
  {
   "cell_type": "markdown",
   "id": "d18d2190",
   "metadata": {},
   "source": [
    "Definimos a la variable respuesta:"
   ]
  },
  {
   "cell_type": "code",
   "execution_count": 4,
   "id": "9c5f9299",
   "metadata": {},
   "outputs": [],
   "source": [
    "y <- c(142.3,144.0,148.6,146.9,142.9,147.4,133.8,133.2,\n",
    "       134.9,146.3,145.2,146.3,125.9,127.6,108.9,107.5,\n",
    "       148.6,156.5,148.6,153.1,135.5,138.9,132.1,149.7,\n",
    "       152.0,151.4,149.7,152.0,142.9,142.3,141.7,141.2)"
   ]
  },
  {
   "cell_type": "markdown",
   "id": "675426bb",
   "metadata": {},
   "source": [
    "Generamos con GAD la tabla de ANOVA:"
   ]
  },
  {
   "cell_type": "code",
   "execution_count": null,
   "id": "f40f176b",
   "metadata": {},
   "outputs": [],
   "source": [
    "library(GAD)"
   ]
  },
  {
   "cell_type": "code",
   "execution_count": 6,
   "id": "ca35ecf0",
   "metadata": {},
   "outputs": [],
   "source": [
    "rdia <- as.random(dia)"
   ]
  },
  {
   "cell_type": "code",
   "execution_count": 7,
   "id": "836d8bcc",
   "metadata": {},
   "outputs": [],
   "source": [
    "rmaquina <- as.random(maquina)"
   ]
  },
  {
   "cell_type": "markdown",
   "id": "7b5eb036",
   "metadata": {},
   "source": [
    "Se espera que haya interacción entre los factores, por eso en el modelo se ponen como una multiplicación."
   ]
  },
  {
   "cell_type": "code",
   "execution_count": 8,
   "id": "11d3ce97",
   "metadata": {},
   "outputs": [],
   "source": [
    "modelo <- lm(y~rdia*rmaquina)"
   ]
  },
  {
   "cell_type": "code",
   "execution_count": 9,
   "id": "0feb5a07",
   "metadata": {},
   "outputs": [
    {
     "data": {
      "text/html": [
       "<table class=\"dataframe\">\n",
       "<caption>A anova: 4 × 5</caption>\n",
       "<thead>\n",
       "\t<tr><th></th><th scope=col>Df</th><th scope=col>Sum Sq</th><th scope=col>Mean Sq</th><th scope=col>F value</th><th scope=col>Pr(&gt;F)</th></tr>\n",
       "\t<tr><th></th><th scope=col>&lt;int&gt;</th><th scope=col>&lt;dbl&gt;</th><th scope=col>&lt;dbl&gt;</th><th scope=col>&lt;dbl&gt;</th><th scope=col>&lt;dbl&gt;</th></tr>\n",
       "</thead>\n",
       "<tbody>\n",
       "\t<tr><th scope=row>rdia</th><td> 3</td><td>1334.4634</td><td>444.82115</td><td>5.093143</td><td>0.024801972</td></tr>\n",
       "\t<tr><th scope=row>rmaquina</th><td> 3</td><td>1647.2784</td><td>549.09281</td><td>6.287040</td><td>0.013724497</td></tr>\n",
       "\t<tr><th scope=row>rdia:rmaquina</th><td> 9</td><td> 786.0353</td><td> 87.33726</td><td>4.880454</td><td>0.002935774</td></tr>\n",
       "\t<tr><th scope=row>Residual</th><td>16</td><td> 286.3250</td><td> 17.89531</td><td>      NA</td><td>         NA</td></tr>\n",
       "</tbody>\n",
       "</table>\n"
      ],
      "text/latex": [
       "A anova: 4 × 5\n",
       "\\begin{tabular}{r|lllll}\n",
       "  & Df & Sum Sq & Mean Sq & F value & Pr(>F)\\\\\n",
       "  & <int> & <dbl> & <dbl> & <dbl> & <dbl>\\\\\n",
       "\\hline\n",
       "\trdia &  3 & 1334.4634 & 444.82115 & 5.093143 & 0.024801972\\\\\n",
       "\trmaquina &  3 & 1647.2784 & 549.09281 & 6.287040 & 0.013724497\\\\\n",
       "\trdia:rmaquina &  9 &  786.0353 &  87.33726 & 4.880454 & 0.002935774\\\\\n",
       "\tResidual & 16 &  286.3250 &  17.89531 &       NA &          NA\\\\\n",
       "\\end{tabular}\n"
      ],
      "text/markdown": [
       "\n",
       "A anova: 4 × 5\n",
       "\n",
       "| <!--/--> | Df &lt;int&gt; | Sum Sq &lt;dbl&gt; | Mean Sq &lt;dbl&gt; | F value &lt;dbl&gt; | Pr(&gt;F) &lt;dbl&gt; |\n",
       "|---|---|---|---|---|---|\n",
       "| rdia |  3 | 1334.4634 | 444.82115 | 5.093143 | 0.024801972 |\n",
       "| rmaquina |  3 | 1647.2784 | 549.09281 | 6.287040 | 0.013724497 |\n",
       "| rdia:rmaquina |  9 |  786.0353 |  87.33726 | 4.880454 | 0.002935774 |\n",
       "| Residual | 16 |  286.3250 |  17.89531 |       NA |          NA |\n",
       "\n"
      ],
      "text/plain": [
       "              Df Sum Sq    Mean Sq   F value  Pr(>F)     \n",
       "rdia           3 1334.4634 444.82115 5.093143 0.024801972\n",
       "rmaquina       3 1647.2784 549.09281 6.287040 0.013724497\n",
       "rdia:rmaquina  9  786.0353  87.33726 4.880454 0.002935774\n",
       "Residual      16  286.3250  17.89531       NA          NA"
      ]
     },
     "metadata": {},
     "output_type": "display_data"
    }
   ],
   "source": [
    "gad(modelo) "
   ]
  },
  {
   "cell_type": "markdown",
   "id": "bbf3768f",
   "metadata": {},
   "source": [
    "Vemos que a segundo nivel (día/máquina) $p < 0.05$, por lo que la interacción entre el día y la máquina sí es significativa, así que no hay una máquina que sea peor que otra, ya que su eficacia depende del lote de los reactivos que se están usando."
   ]
  },
  {
   "cell_type": "markdown",
   "id": "a98da78a",
   "metadata": {},
   "source": [
    "## Estimando componentes de la varianza:"
   ]
  },
  {
   "cell_type": "code",
   "execution_count": null,
   "id": "31808ffa",
   "metadata": {},
   "outputs": [],
   "source": [
    "library(lme4)"
   ]
  },
  {
   "cell_type": "markdown",
   "id": "94ec208b",
   "metadata": {},
   "source": [
    "Esta es la sintaxis cuando vamos a indicar que hay interacción entre los factores:"
   ]
  },
  {
   "cell_type": "code",
   "execution_count": 11,
   "id": "5c83291f",
   "metadata": {},
   "outputs": [
    {
     "data": {
      "text/plain": [
       "Linear mixed model fit by REML ['lmerMod']\n",
       "Formula: y ~ 1 + (1 | dia) + (1 | maquina) + (1 | dia:maquina)\n",
       "\n",
       "REML criterion at convergence: 215\n",
       "\n",
       "Scaled residuals: \n",
       "     Min       1Q   Median       3Q      Max \n",
       "-1.84283 -0.35581  0.03485  0.20700  2.31766 \n",
       "\n",
       "Random effects:\n",
       " Groups      Name        Variance Std.Dev.\n",
       " dia:maquina (Intercept) 34.72    5.892   \n",
       " maquina     (Intercept) 57.72    7.597   \n",
       " dia         (Intercept) 44.69    6.685   \n",
       " Residual                17.90    4.230   \n",
       "Number of obs: 32, groups:  dia:maquina, 16; maquina, 4; dia, 4\n",
       "\n",
       "Fixed effects:\n",
       "            Estimate Std. Error t value\n",
       "(Intercept)  141.184      5.323   26.52"
      ]
     },
     "metadata": {},
     "output_type": "display_data"
    }
   ],
   "source": [
    "mod1 <- lmer(y ~ 1 + (1|dia) + (1|maquina) + (1|dia:maquina))\n",
    "summary(mod1)"
   ]
  },
  {
   "cell_type": "code",
   "execution_count": 44,
   "id": "76a478ea",
   "metadata": {},
   "outputs": [
    {
     "data": {
      "text/plain": [
       " Groups      Name        Std.Dev.\n",
       " dia:maquina (Intercept) 5.8925  \n",
       " maquina     (Intercept) 7.5972  \n",
       " dia         (Intercept) 6.6849  \n",
       " Residual                4.2303  "
      ]
     },
     "metadata": {},
     "output_type": "display_data"
    }
   ],
   "source": [
    "summ_mod1$var"
   ]
  },
  {
   "cell_type": "code",
   "execution_count": 52,
   "id": "04500dad",
   "metadata": {},
   "outputs": [
    {
     "data": {
      "text/html": [
       "<strong>$`dia:maquina`</strong> = <table class=\"dataframe\">\n",
       "<caption>A matrix: 1 × 1 of type dbl</caption>\n",
       "<thead>\n",
       "\t<tr><th></th><th scope=col>(Intercept)</th></tr>\n",
       "</thead>\n",
       "<tbody>\n",
       "\t<tr><th scope=row>(Intercept)</th><td>34.72108</td></tr>\n",
       "</tbody>\n",
       "</table>\n"
      ],
      "text/latex": [
       "\\textbf{\\$`dia:maquina`} = A matrix: 1 × 1 of type dbl\n",
       "\\begin{tabular}{r|l}\n",
       "  & (Intercept)\\\\\n",
       "\\hline\n",
       "\t(Intercept) & 34.72108\\\\\n",
       "\\end{tabular}\n"
      ],
      "text/markdown": [
       "**$`dia:maquina`** = \n",
       "A matrix: 1 × 1 of type dbl\n",
       "\n",
       "| <!--/--> | (Intercept) |\n",
       "|---|---|\n",
       "| (Intercept) | 34.72108 |\n",
       "\n"
      ],
      "text/plain": [
       "$`dia:maquina`\n",
       "            (Intercept)\n",
       "(Intercept)    34.72108\n",
       "attr(,\"stddev\")\n",
       "(Intercept) \n",
       "   5.892459 \n",
       "attr(,\"correlation\")\n",
       "            (Intercept)\n",
       "(Intercept)           1\n"
      ]
     },
     "metadata": {},
     "output_type": "display_data"
    }
   ],
   "source": [
    "summ_mod1$varcor[1]"
   ]
  },
  {
   "cell_type": "code",
   "execution_count": 53,
   "id": "98724e2e",
   "metadata": {},
   "outputs": [],
   "source": [
    "summ_mod1 <- summary(mod1)\n",
    "vars <- c(summ_mod1$varcor[1],summ_mod1$varcor[2],summ_mod1$varcor[3],summ_mod1$varcor[4])"
   ]
  },
  {
   "cell_type": "code",
   "execution_count": 67,
   "id": "743e3b15",
   "metadata": {},
   "outputs": [
    {
     "data": {
      "text/html": [
       "3"
      ],
      "text/latex": [
       "3"
      ],
      "text/markdown": [
       "3"
      ],
      "text/plain": [
       "[1] 3"
      ]
     },
     "metadata": {},
     "output_type": "display_data"
    }
   ],
   "source": [
    "length(summ_mod1$var)"
   ]
  },
  {
   "cell_type": "code",
   "execution_count": 63,
   "id": "0fea50ec",
   "metadata": {},
   "outputs": [
    {
     "data": {
      "text/html": [
       "<dl>\n",
       "\t<dt>$`dia:maquina`</dt>\n",
       "\t\t<dd>34.7210776572575</dd>\n",
       "\t<dt>$maquina</dt>\n",
       "\t\t<dd>57.7181826377653</dd>\n",
       "\t<dt>$dia</dt>\n",
       "\t\t<dd>44.688502449772</dd>\n",
       "</dl>\n"
      ],
      "text/latex": [
       "\\begin{description}\n",
       "\\item[\\$`dia:maquina`] 34.7210776572575\n",
       "\\item[\\$maquina] 57.7181826377653\n",
       "\\item[\\$dia] 44.688502449772\n",
       "\\end{description}\n"
      ],
      "text/markdown": [
       "$`dia:maquina`\n",
       ":   34.7210776572575\n",
       "$maquina\n",
       ":   57.7181826377653\n",
       "$dia\n",
       ":   44.688502449772\n",
       "\n",
       "\n"
      ],
      "text/plain": [
       "$`dia:maquina`\n",
       "[1] 34.72108\n",
       "\n",
       "$maquina\n",
       "[1] 57.71818\n",
       "\n",
       "$dia\n",
       "[1] 44.6885\n"
      ]
     },
     "metadata": {},
     "output_type": "display_data"
    }
   ],
   "source": [
    "lapply(summ_mod1$var,as.double)"
   ]
  },
  {
   "cell_type": "markdown",
   "id": "975c7311",
   "metadata": {},
   "source": [
    "La variación de la interacción día/máquina es casi dos veces mayor que la variación de los residuos."
   ]
  },
  {
   "cell_type": "code",
   "execution_count": 46,
   "id": "309b1635",
   "metadata": {},
   "outputs": [],
   "source": [
    "#Componentes de varianza\n",
    "vars <- c(34.72,57.72,44.69,17.90)"
   ]
  },
  {
   "cell_type": "code",
   "execution_count": 49,
   "id": "273c5f3e",
   "metadata": {},
   "outputs": [],
   "source": [
    "#para sacar porcentajes\n",
    "porcentajes<-100*vars/sum(vars)\n",
    "porcentajes <- c(round(porcentajes[1],2),round(porcentajes[2],2),round(porcentajes[3],2),round(porcentajes[4],2))"
   ]
  },
  {
   "cell_type": "code",
   "execution_count": 50,
   "id": "87b94a4a",
   "metadata": {},
   "outputs": [
    {
     "data": {
      "text/html": [
       "<style>\n",
       ".list-inline {list-style: none; margin:0; padding: 0}\n",
       ".list-inline>li {display: inline-block}\n",
       ".list-inline>li:not(:last-child)::after {content: \"\\00b7\"; padding: 0 .5ex}\n",
       "</style>\n",
       "<ol class=list-inline><li>22.4</li><li>37.23</li><li>28.83</li><li>11.55</li></ol>\n"
      ],
      "text/latex": [
       "\\begin{enumerate*}\n",
       "\\item 22.4\n",
       "\\item 37.23\n",
       "\\item 28.83\n",
       "\\item 11.55\n",
       "\\end{enumerate*}\n"
      ],
      "text/markdown": [
       "1. 22.4\n",
       "2. 37.23\n",
       "3. 28.83\n",
       "4. 11.55\n",
       "\n",
       "\n"
      ],
      "text/plain": [
       "[1] 22.40 37.23 28.83 11.55"
      ]
     },
     "metadata": {},
     "output_type": "display_data"
    }
   ],
   "source": [
    "porcentajes"
   ]
  },
  {
   "cell_type": "markdown",
   "id": "53460c21",
   "metadata": {},
   "source": [
    "Gráfico de pastel"
   ]
  },
  {
   "cell_type": "code",
   "execution_count": 48,
   "id": "ff4f4c0c",
   "metadata": {},
   "outputs": [],
   "source": [
    "library(plotrix)"
   ]
  },
  {
   "cell_type": "code",
   "execution_count": 68,
   "id": "101db060",
   "metadata": {},
   "outputs": [
    {
     "name": "stderr",
     "output_type": "stream",
     "text": [
      "Warning message in plot.window(...):\n",
      "“\"clockwise\" is not a graphical parameter”\n",
      "Warning message in plot.xy(xy, type, ...):\n",
      "“\"clockwise\" is not a graphical parameter”\n",
      "Warning message in title(...):\n",
      "“\"clockwise\" is not a graphical parameter”\n"
     ]
    },
    {
     "data": {
      "image/png": "[encoded data removed]",
      "text/plain": [
       "Plot with title “Componentes de varianza”"
      ]
     },
     "metadata": {
      "image/png": {
       "height": 420,
       "width": 420
      }
     },
     "output_type": "display_data"
    }
   ],
   "source": [
    "etiqueta<-paste(porcentajes,\"%\",sep = \"\")\n",
    "colores<-c(\"purple\",\"red\",\"541\",\"yellow\")\n",
    "\n",
    "pie3D(porcentajes,labels = etiqueta,radius=0.9,explode=0.1,main=\"Componentes de varianza\",clockwise=TRUE,col=colores)\n",
    "\n",
    "#Leyenda\n",
    "legend(\"topright\",c(\"día:máquina\",\"máquina\",\"día\",\"error\"),cex=0.5,fill=colores)"
   ]
  },
  {
   "cell_type": "markdown",
   "id": "a8755f9b",
   "metadata": {},
   "source": [
    "Lo que aporta mayor variación es la máquina."
   ]
  },
  {
   "cell_type": "markdown",
   "id": "4bc77107",
   "metadata": {},
   "source": [
    "## Verificando los supuestos del modelo "
   ]
  },
  {
   "cell_type": "markdown",
   "id": "623a44c5",
   "metadata": {},
   "source": [
    "Normalidad de los residuos:"
   ]
  },
  {
   "cell_type": "code",
   "execution_count": 80,
   "id": "b86eeadf",
   "metadata": {},
   "outputs": [
    {
     "data": {
      "text/html": [
       "<style>\n",
       ".dl-inline {width: auto; margin:0; padding: 0}\n",
       ".dl-inline>dt, .dl-inline>dd {float: none; width: auto; display: inline-block}\n",
       ".dl-inline>dt::after {content: \":\\0020\"; padding-right: .5ex}\n",
       ".dl-inline>dt:not(:first-of-type) {padding-left: .5ex}\n",
       "</style><dl class=dl-inline><dt>1</dt><dd>-0.850000000000024</dd><dt>2</dt><dd>0.850000000000024</dd><dt>3</dt><dd>0.849999999999995</dd><dt>4</dt><dd>-0.849999999999991</dd><dt>5</dt><dd>-2.25</dd><dt>6</dt><dd>2.25</dd><dt>7</dt><dd>0.300000000000013</dd><dt>8</dt><dd>-0.300000000000016</dd><dt>9</dt><dd>-5.7</dd><dt>10</dt><dd>5.7</dd><dt>11</dt><dd>-0.550000000000008</dd><dt>12</dt><dd>0.550000000000008</dd><dt>13</dt><dd>-0.849999999999996</dd><dt>14</dt><dd>0.849999999999996</dd><dt>15</dt><dd>0.700000000000002</dd><dt>16</dt><dd>-0.700000000000001</dd><dt>17</dt><dd>-3.95</dd><dt>18</dt><dd>3.95</dd><dt>19</dt><dd>-2.25</dd><dt>20</dt><dd>2.25</dd><dt>21</dt><dd>-1.7</dd><dt>22</dt><dd>1.7</dd><dt>23</dt><dd>-8.8</dd><dt>24</dt><dd>8.8</dd><dt>25</dt><dd>0.299999999999997</dd><dt>26</dt><dd>-0.299999999999997</dd><dt>27</dt><dd>-1.15000000000001</dd><dt>28</dt><dd>1.15000000000001</dd><dt>29</dt><dd>0.299999999999998</dd><dt>30</dt><dd>-0.299999999999998</dd><dt>31</dt><dd>0.25</dd><dt>32</dt><dd>-0.25</dd></dl>\n"
      ],
      "text/latex": [
       "\\begin{description*}\n",
       "\\item[1] -0.850000000000024\n",
       "\\item[2] 0.850000000000024\n",
       "\\item[3] 0.849999999999995\n",
       "\\item[4] -0.849999999999991\n",
       "\\item[5] -2.25\n",
       "\\item[6] 2.25\n",
       "\\item[7] 0.300000000000013\n",
       "\\item[8] -0.300000000000016\n",
       "\\item[9] -5.7\n",
       "\\item[10] 5.7\n",
       "\\item[11] -0.550000000000008\n",
       "\\item[12] 0.550000000000008\n",
       "\\item[13] -0.849999999999996\n",
       "\\item[14] 0.849999999999996\n",
       "\\item[15] 0.700000000000002\n",
       "\\item[16] -0.700000000000001\n",
       "\\item[17] -3.95\n",
       "\\item[18] 3.95\n",
       "\\item[19] -2.25\n",
       "\\item[20] 2.25\n",
       "\\item[21] -1.7\n",
       "\\item[22] 1.7\n",
       "\\item[23] -8.8\n",
       "\\item[24] 8.8\n",
       "\\item[25] 0.299999999999997\n",
       "\\item[26] -0.299999999999997\n",
       "\\item[27] -1.15000000000001\n",
       "\\item[28] 1.15000000000001\n",
       "\\item[29] 0.299999999999998\n",
       "\\item[30] -0.299999999999998\n",
       "\\item[31] 0.25\n",
       "\\item[32] -0.25\n",
       "\\end{description*}\n"
      ],
      "text/markdown": [
       "1\n",
       ":   -0.8500000000000242\n",
       ":   0.8500000000000243\n",
       ":   0.8499999999999954\n",
       ":   -0.8499999999999915\n",
       ":   -2.256\n",
       ":   2.257\n",
       ":   0.3000000000000138\n",
       ":   -0.3000000000000169\n",
       ":   -5.710\n",
       ":   5.711\n",
       ":   -0.55000000000000812\n",
       ":   0.55000000000000813\n",
       ":   -0.84999999999999614\n",
       ":   0.84999999999999615\n",
       ":   0.70000000000000216\n",
       ":   -0.70000000000000117\n",
       ":   -3.9518\n",
       ":   3.9519\n",
       ":   -2.2520\n",
       ":   2.2521\n",
       ":   -1.722\n",
       ":   1.723\n",
       ":   -8.824\n",
       ":   8.825\n",
       ":   0.29999999999999726\n",
       ":   -0.29999999999999727\n",
       ":   -1.1500000000000128\n",
       ":   1.1500000000000129\n",
       ":   0.29999999999999830\n",
       ":   -0.29999999999999831\n",
       ":   0.2532\n",
       ":   -0.25\n",
       "\n"
      ],
      "text/plain": [
       "    1     2     3     4     5     6     7     8     9    10    11    12    13 \n",
       "-0.85  0.85  0.85 -0.85 -2.25  2.25  0.30 -0.30 -5.70  5.70 -0.55  0.55 -0.85 \n",
       "   14    15    16    17    18    19    20    21    22    23    24    25    26 \n",
       " 0.85  0.70 -0.70 -3.95  3.95 -2.25  2.25 -1.70  1.70 -8.80  8.80  0.30 -0.30 \n",
       "   27    28    29    30    31    32 \n",
       "-1.15  1.15  0.30 -0.30  0.25 -0.25 "
      ]
     },
     "metadata": {},
     "output_type": "display_data"
    }
   ],
   "source": [
    "residuos<-modelo$res\n",
    "residuos"
   ]
  },
  {
   "cell_type": "code",
   "execution_count": 81,
   "id": "2747f1bd",
   "metadata": {},
   "outputs": [
    {
     "data": {
      "image/png": "[encoded data removed]",
      "text/plain": [
       "plot without title"
      ]
     },
     "metadata": {
      "image/png": {
       "height": 420,
       "width": 420
      }
     },
     "output_type": "display_data"
    }
   ],
   "source": [
    "plot(residuos)"
   ]
  },
  {
   "cell_type": "code",
   "execution_count": 71,
   "id": "c7d59ef5",
   "metadata": {},
   "outputs": [
    {
     "data": {
      "image/png": "[encoded data removed]",
      "text/plain": [
       "Plot with title “Normal Q-Q Plot”"
      ]
     },
     "metadata": {
      "image/png": {
       "height": 420,
       "width": 420
      }
     },
     "output_type": "display_data"
    }
   ],
   "source": [
    "qqnorm(residuos)\n",
    "qqline(residuos)"
   ]
  },
  {
   "cell_type": "code",
   "execution_count": 82,
   "id": "35771501",
   "metadata": {},
   "outputs": [
    {
     "data": {
      "image/png": "[encoded data removed]",
      "text/plain": [
       "Plot with title “Histogram of residuos”"
      ]
     },
     "metadata": {
      "image/png": {
       "height": 420,
       "width": 420
      }
     },
     "output_type": "display_data"
    }
   ],
   "source": [
    "hist(residuos)"
   ]
  },
  {
   "cell_type": "code",
   "execution_count": 83,
   "id": "24a2885d",
   "metadata": {},
   "outputs": [
    {
     "data": {
      "image/png": "[encoded data removed]",
      "text/plain": [
       "plot without title"
      ]
     },
     "metadata": {
      "image/png": {
       "height": 420,
       "width": 420
      }
     },
     "output_type": "display_data"
    }
   ],
   "source": [
    "boxplot(residuos)"
   ]
  },
  {
   "cell_type": "code",
   "execution_count": 84,
   "id": "51494f6a",
   "metadata": {},
   "outputs": [
    {
     "data": {
      "text/plain": [
       "\n",
       "\tShapiro-Wilk normality test\n",
       "\n",
       "data:  residuos\n",
       "W = 0.90151, p-value = 0.00677\n"
      ]
     },
     "metadata": {},
     "output_type": "display_data"
    }
   ],
   "source": [
    "shapiro.test(residuos)"
   ]
  },
  {
   "cell_type": "markdown",
   "id": "bed89270",
   "metadata": {},
   "source": [
    "Independencia de los residuos:"
   ]
  },
  {
   "cell_type": "code",
   "execution_count": null,
   "id": "796e6a71",
   "metadata": {},
   "outputs": [],
   "source": [
    "library(tseries)"
   ]
  },
  {
   "cell_type": "code",
   "execution_count": 76,
   "id": "a295ed4f",
   "metadata": {},
   "outputs": [
    {
     "data": {
      "text/plain": [
       "\n",
       "\tRuns Test\n",
       "\n",
       "data:  as.factor(modelo$residual > 0)\n",
       "Standard Normal = 2.1564, p-value = 0.03105\n",
       "alternative hypothesis: two.sided\n"
      ]
     },
     "metadata": {},
     "output_type": "display_data"
    }
   ],
   "source": [
    "####Ho: No hay correlacion (prueba de rachas, para probar no correlacion de residuos)\n",
    "runs.test(as.factor(modelo$residual>0))"
   ]
  },
  {
   "cell_type": "markdown",
   "id": "df192736",
   "metadata": {},
   "source": [
    "Ya que no se cumplen los supuestos, es probable que nuestras respuestas no son las adecuadas."
   ]
  },
  {
   "cell_type": "code",
   "execution_count": null,
   "id": "22b7e3fe",
   "metadata": {},
   "outputs": [],
   "source": []
  }
 ],
 "metadata": {
  "kernelspec": {
   "display_name": "R",
   "language": "R",
   "name": "ir"
  },
  "language_info": {
   "codemirror_mode": "r",
   "file_extension": ".r",
   "mimetype": "text/x-r-source",
   "name": "R",
   "pygments_lexer": "r",
   "version": "4.1.1"
  }
 },
 "nbformat": 4,
 "nbformat_minor": 5
}
